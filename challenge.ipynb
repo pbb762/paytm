{
 "cells": [
  {
   "cell_type": "code",
   "execution_count": 158,
   "metadata": {},
   "outputs": [],
   "source": [
    "import pandas as pd\n",
    "import numpy as np\n",
    "import seaborn as sns\n",
    "import matplotlib.pyplot as plt \n",
    "%matplotlib inline\n",
    "import warnings\n",
    "warnings.filterwarnings('ignore')\n",
    "from IPython.core.interactiveshell import InteractiveShell\n",
    "InteractiveShell.ast_node_interactivity = \"all\"\n",
    "from datetime import datetime\n",
    "from keras.optimizers import Adam,SGD,Adagrad,Adadelta,RMSprop\n",
    "\n"
   ]
  },
  {
   "cell_type": "markdown",
   "metadata": {},
   "source": [
    "### Importing the data"
   ]
  },
  {
   "cell_type": "code",
   "execution_count": 173,
   "metadata": {},
   "outputs": [],
   "source": [
    "user_cols = ['UserID','MovieID','Rating','Timestamp']\n",
    "filename=\"./ratings.dat\"\n",
    "user_rating = pd.read_csv(filename, sep='::',names=user_cols, encoding='latin-1')\n",
    "# user_rating.head()\n",
    "\n",
    "item_cols = ['MovieID','Title','Genres']\n",
    "filename=\"./movies.dat\"\n",
    "movies = pd.read_csv(filename, sep='::',names=item_cols, encoding='latin-1')\n",
    "# movies.head()\n",
    "\n",
    "final = user_rating.merge(movies, how='left', left_on='MovieID', right_on='MovieID')\n",
    "\n",
    "#converting timestamp to date time \n",
    "final['Date']=final['Timestamp'].map(datetime.fromtimestamp).dt.date\n",
    "\n",
    "\n",
    "# downsampling\n",
    "# final=final.sample(frac=0.1)"
   ]
  },
  {
   "cell_type": "markdown",
   "metadata": {},
   "source": [
    "## Save and load the data for time saving"
   ]
  },
  {
   "cell_type": "code",
   "execution_count": 172,
   "metadata": {},
   "outputs": [
    {
     "data": {
      "text/plain": [
       "(100, 7)"
      ]
     },
     "execution_count": 172,
     "metadata": {},
     "output_type": "execute_result"
    }
   ],
   "source": [
    "# final.shape\n",
    "# final.to_pickle('./final.pkl')\n",
    "final=pd.read_pickle('./final.pkl')\n",
    "final=final.iloc[0:100,:]\n",
    "\n",
    "final.shape"
   ]
  },
  {
   "cell_type": "markdown",
   "metadata": {},
   "source": [
    "### Exploratory data analysis "
   ]
  },
  {
   "cell_type": "code",
   "execution_count": 174,
   "metadata": {},
   "outputs": [
    {
     "data": {
      "text/html": [
       "<div>\n",
       "<style scoped>\n",
       "    .dataframe tbody tr th:only-of-type {\n",
       "        vertical-align: middle;\n",
       "    }\n",
       "\n",
       "    .dataframe tbody tr th {\n",
       "        vertical-align: top;\n",
       "    }\n",
       "\n",
       "    .dataframe thead th {\n",
       "        text-align: right;\n",
       "    }\n",
       "</style>\n",
       "<table border=\"1\" class=\"dataframe\">\n",
       "  <thead>\n",
       "    <tr style=\"text-align: right;\">\n",
       "      <th></th>\n",
       "      <th>UserID</th>\n",
       "      <th>MovieID</th>\n",
       "      <th>Rating</th>\n",
       "      <th>Timestamp</th>\n",
       "      <th>Title</th>\n",
       "      <th>Genres</th>\n",
       "      <th>Date</th>\n",
       "    </tr>\n",
       "  </thead>\n",
       "  <tbody>\n",
       "    <tr>\n",
       "      <th>count</th>\n",
       "      <td>1.000188e+07</td>\n",
       "      <td>1.000187e+07</td>\n",
       "      <td>1.000187e+07</td>\n",
       "      <td>1.000188e+07</td>\n",
       "      <td>9996617</td>\n",
       "      <td>9996647</td>\n",
       "      <td>10001878</td>\n",
       "    </tr>\n",
       "    <tr>\n",
       "      <th>unique</th>\n",
       "      <td>NaN</td>\n",
       "      <td>NaN</td>\n",
       "      <td>NaN</td>\n",
       "      <td>NaN</td>\n",
       "      <td>10675</td>\n",
       "      <td>797</td>\n",
       "      <td>4638</td>\n",
       "    </tr>\n",
       "    <tr>\n",
       "      <th>top</th>\n",
       "      <td>NaN</td>\n",
       "      <td>NaN</td>\n",
       "      <td>NaN</td>\n",
       "      <td>NaN</td>\n",
       "      <td>Pulp Fiction (1994)</td>\n",
       "      <td>Drama</td>\n",
       "      <td>2000-11-20</td>\n",
       "    </tr>\n",
       "    <tr>\n",
       "      <th>freq</th>\n",
       "      <td>NaN</td>\n",
       "      <td>NaN</td>\n",
       "      <td>NaN</td>\n",
       "      <td>NaN</td>\n",
       "      <td>34864</td>\n",
       "      <td>815083</td>\n",
       "      <td>64128</td>\n",
       "    </tr>\n",
       "    <tr>\n",
       "      <th>mean</th>\n",
       "      <td>3.586967e+04</td>\n",
       "      <td>4.119553e+03</td>\n",
       "      <td>4.002864e+03</td>\n",
       "      <td>1.032587e+09</td>\n",
       "      <td>NaN</td>\n",
       "      <td>NaN</td>\n",
       "      <td>NaN</td>\n",
       "    </tr>\n",
       "    <tr>\n",
       "      <th>std</th>\n",
       "      <td>2.058536e+04</td>\n",
       "      <td>8.937759e+03</td>\n",
       "      <td>6.323962e+06</td>\n",
       "      <td>1.159712e+08</td>\n",
       "      <td>NaN</td>\n",
       "      <td>NaN</td>\n",
       "      <td>NaN</td>\n",
       "    </tr>\n",
       "    <tr>\n",
       "      <th>min</th>\n",
       "      <td>1.000000e+00</td>\n",
       "      <td>1.000000e+00</td>\n",
       "      <td>-2.000000e+02</td>\n",
       "      <td>7.896520e+08</td>\n",
       "      <td>NaN</td>\n",
       "      <td>NaN</td>\n",
       "      <td>NaN</td>\n",
       "    </tr>\n",
       "    <tr>\n",
       "      <th>25%</th>\n",
       "      <td>1.812200e+04</td>\n",
       "      <td>6.480000e+02</td>\n",
       "      <td>3.000000e+00</td>\n",
       "      <td>9.467544e+08</td>\n",
       "      <td>NaN</td>\n",
       "      <td>NaN</td>\n",
       "      <td>NaN</td>\n",
       "    </tr>\n",
       "    <tr>\n",
       "      <th>50%</th>\n",
       "      <td>3.573900e+04</td>\n",
       "      <td>1.833000e+03</td>\n",
       "      <td>4.000000e+00</td>\n",
       "      <td>1.035425e+09</td>\n",
       "      <td>NaN</td>\n",
       "      <td>NaN</td>\n",
       "      <td>NaN</td>\n",
       "    </tr>\n",
       "    <tr>\n",
       "      <th>75%</th>\n",
       "      <td>5.360700e+04</td>\n",
       "      <td>3.624000e+03</td>\n",
       "      <td>4.000000e+00</td>\n",
       "      <td>1.126695e+09</td>\n",
       "      <td>NaN</td>\n",
       "      <td>NaN</td>\n",
       "      <td>NaN</td>\n",
       "    </tr>\n",
       "    <tr>\n",
       "      <th>max</th>\n",
       "      <td>7.156700e+04</td>\n",
       "      <td>6.513300e+04</td>\n",
       "      <td>1.000000e+10</td>\n",
       "      <td>1.231132e+09</td>\n",
       "      <td>NaN</td>\n",
       "      <td>NaN</td>\n",
       "      <td>NaN</td>\n",
       "    </tr>\n",
       "  </tbody>\n",
       "</table>\n",
       "</div>"
      ],
      "text/plain": [
       "              UserID       MovieID        Rating     Timestamp  \\\n",
       "count   1.000188e+07  1.000187e+07  1.000187e+07  1.000188e+07   \n",
       "unique           NaN           NaN           NaN           NaN   \n",
       "top              NaN           NaN           NaN           NaN   \n",
       "freq             NaN           NaN           NaN           NaN   \n",
       "mean    3.586967e+04  4.119553e+03  4.002864e+03  1.032587e+09   \n",
       "std     2.058536e+04  8.937759e+03  6.323962e+06  1.159712e+08   \n",
       "min     1.000000e+00  1.000000e+00 -2.000000e+02  7.896520e+08   \n",
       "25%     1.812200e+04  6.480000e+02  3.000000e+00  9.467544e+08   \n",
       "50%     3.573900e+04  1.833000e+03  4.000000e+00  1.035425e+09   \n",
       "75%     5.360700e+04  3.624000e+03  4.000000e+00  1.126695e+09   \n",
       "max     7.156700e+04  6.513300e+04  1.000000e+10  1.231132e+09   \n",
       "\n",
       "                      Title   Genres        Date  \n",
       "count               9996617  9996647    10001878  \n",
       "unique                10675      797        4638  \n",
       "top     Pulp Fiction (1994)    Drama  2000-11-20  \n",
       "freq                  34864   815083       64128  \n",
       "mean                    NaN      NaN         NaN  \n",
       "std                     NaN      NaN         NaN  \n",
       "min                     NaN      NaN         NaN  \n",
       "25%                     NaN      NaN         NaN  \n",
       "50%                     NaN      NaN         NaN  \n",
       "75%                     NaN      NaN         NaN  \n",
       "max                     NaN      NaN         NaN  "
      ]
     },
     "execution_count": 174,
     "metadata": {},
     "output_type": "execute_result"
    },
    {
     "data": {
      "text/plain": [
       "UserID       float64\n",
       "MovieID      float64\n",
       "Rating       float64\n",
       "Timestamp      int64\n",
       "Title         object\n",
       "Genres        object\n",
       "Date          object\n",
       "dtype: object"
      ]
     },
     "execution_count": 174,
     "metadata": {},
     "output_type": "execute_result"
    },
    {
     "data": {
      "text/plain": [
       "UserID          1\n",
       "MovieID         8\n",
       "Rating          4\n",
       "Timestamp       0\n",
       "Title        5261\n",
       "Genres       5231\n",
       "Date            0\n",
       "dtype: int64"
      ]
     },
     "execution_count": 174,
     "metadata": {},
     "output_type": "execute_result"
    }
   ],
   "source": [
    "final.describe(include='all')\n",
    "final.dtypes\n",
    "final.isnull().sum()"
   ]
  },
  {
   "cell_type": "code",
   "execution_count": 175,
   "metadata": {},
   "outputs": [
    {
     "data": {
      "text/html": [
       "<div>\n",
       "<style scoped>\n",
       "    .dataframe tbody tr th:only-of-type {\n",
       "        vertical-align: middle;\n",
       "    }\n",
       "\n",
       "    .dataframe tbody tr th {\n",
       "        vertical-align: top;\n",
       "    }\n",
       "\n",
       "    .dataframe thead th {\n",
       "        text-align: right;\n",
       "    }\n",
       "</style>\n",
       "<table border=\"1\" class=\"dataframe\">\n",
       "  <thead>\n",
       "    <tr style=\"text-align: right;\">\n",
       "      <th></th>\n",
       "      <th>UserID</th>\n",
       "      <th>MovieID</th>\n",
       "      <th>Rating</th>\n",
       "      <th>Timestamp</th>\n",
       "    </tr>\n",
       "  </thead>\n",
       "  <tbody>\n",
       "    <tr>\n",
       "      <th>count</th>\n",
       "      <td>9.996604e+06</td>\n",
       "      <td>9.996604e+06</td>\n",
       "      <td>9.996604e+06</td>\n",
       "      <td>9.996604e+06</td>\n",
       "    </tr>\n",
       "    <tr>\n",
       "      <th>mean</th>\n",
       "      <td>3.586991e+04</td>\n",
       "      <td>4.115497e+03</td>\n",
       "      <td>4.004972e+03</td>\n",
       "      <td>1.032593e+09</td>\n",
       "    </tr>\n",
       "    <tr>\n",
       "      <th>std</th>\n",
       "      <td>2.058528e+04</td>\n",
       "      <td>8.930424e+03</td>\n",
       "      <td>6.325629e+06</td>\n",
       "      <td>1.159565e+08</td>\n",
       "    </tr>\n",
       "    <tr>\n",
       "      <th>min</th>\n",
       "      <td>1.000000e+00</td>\n",
       "      <td>1.000000e+00</td>\n",
       "      <td>-2.000000e+02</td>\n",
       "      <td>7.896520e+08</td>\n",
       "    </tr>\n",
       "    <tr>\n",
       "      <th>25%</th>\n",
       "      <td>1.812300e+04</td>\n",
       "      <td>6.480000e+02</td>\n",
       "      <td>3.000000e+00</td>\n",
       "      <td>9.467661e+08</td>\n",
       "    </tr>\n",
       "    <tr>\n",
       "      <th>50%</th>\n",
       "      <td>3.574000e+04</td>\n",
       "      <td>1.834000e+03</td>\n",
       "      <td>4.000000e+00</td>\n",
       "      <td>1.035426e+09</td>\n",
       "    </tr>\n",
       "    <tr>\n",
       "      <th>75%</th>\n",
       "      <td>5.360800e+04</td>\n",
       "      <td>3.624000e+03</td>\n",
       "      <td>4.000000e+00</td>\n",
       "      <td>1.126651e+09</td>\n",
       "    </tr>\n",
       "    <tr>\n",
       "      <th>max</th>\n",
       "      <td>7.156700e+04</td>\n",
       "      <td>6.513300e+04</td>\n",
       "      <td>1.000000e+10</td>\n",
       "      <td>1.231132e+09</td>\n",
       "    </tr>\n",
       "  </tbody>\n",
       "</table>\n",
       "</div>"
      ],
      "text/plain": [
       "             UserID       MovieID        Rating     Timestamp\n",
       "count  9.996604e+06  9.996604e+06  9.996604e+06  9.996604e+06\n",
       "mean   3.586991e+04  4.115497e+03  4.004972e+03  1.032593e+09\n",
       "std    2.058528e+04  8.930424e+03  6.325629e+06  1.159565e+08\n",
       "min    1.000000e+00  1.000000e+00 -2.000000e+02  7.896520e+08\n",
       "25%    1.812300e+04  6.480000e+02  3.000000e+00  9.467661e+08\n",
       "50%    3.574000e+04  1.834000e+03  4.000000e+00  1.035426e+09\n",
       "75%    5.360800e+04  3.624000e+03  4.000000e+00  1.126651e+09\n",
       "max    7.156700e+04  6.513300e+04  1.000000e+10  1.231132e+09"
      ]
     },
     "execution_count": 175,
     "metadata": {},
     "output_type": "execute_result"
    },
    {
     "data": {
      "text/plain": [
       "<AxesSubplot:title={'center':'Raw data'}, xlabel='Rating'>"
      ]
     },
     "execution_count": 175,
     "metadata": {},
     "output_type": "execute_result"
    },
    {
     "data": {
      "text/plain": [
       "<AxesSubplot:title={'center':'After Cleaning Ratings'}, xlabel='Rating'>"
      ]
     },
     "execution_count": 175,
     "metadata": {},
     "output_type": "execute_result"
    },
    {
     "data": {
      "image/png": "[encoded data removed]",
      "text/plain": [
       "<Figure size 432x288 with 2 Axes>"
      ]
     },
     "metadata": {
      "needs_background": "light"
     },
     "output_type": "display_data"
    }
   ],
   "source": [
    "### Removing rows with nan in tile and genre\n",
    "final.dropna(inplace=True)\n",
    "final.describe()\n",
    "\n",
    "### Checking the hisotgrma of Ratings\n",
    "fig, axes = plt.subplots(nrows=1, ncols=2)\n",
    "count_rates = final.groupby('Rating').count()\n",
    "count_rates['perc_total']=round(count_rates['UserID']*100/count_rates['UserID'].sum(),1)\n",
    "count_rates['perc_total'].plot.bar(title=\"Raw data\",ax=axes[0])\n",
    "\n",
    "### Removing rows with negative Rating and Ratings more than 5\n",
    "final=final[(final.Rating<=5) & (final.Rating>=0)]\n",
    "count_rates = final.groupby('Rating').count()\n",
    "count_rates['perc_total']=round(count_rates['UserID']*100/count_rates['UserID'].sum(),1)\n",
    "count_rates['perc_total'].plot.bar(title=\"After Cleaning Ratings\",ax=axes[1])\n",
    "\n",
    "### Changing the userID, MovieID into INT (currently float64)\n",
    "final.UserID=final.UserID.astype(int)\n",
    "final.MovieID=final.MovieID.astype(int)"
   ]
  },
  {
   "cell_type": "markdown",
   "metadata": {},
   "source": [
    "### Removing duplicate ratings if any\n",
    "### using DASK to reduce time"
   ]
  },
  {
   "cell_type": "code",
   "execution_count": 135,
   "metadata": {},
   "outputs": [
    {
     "name": "stdout",
     "output_type": "stream",
     "text": [
      "We have 100 users\n",
      "We have 100 movies\n"
     ]
    },
    {
     "data": {
      "text/html": [
       "<div>\n",
       "<style scoped>\n",
       "    .dataframe tbody tr th:only-of-type {\n",
       "        vertical-align: middle;\n",
       "    }\n",
       "\n",
       "    .dataframe tbody tr th {\n",
       "        vertical-align: top;\n",
       "    }\n",
       "\n",
       "    .dataframe thead th {\n",
       "        text-align: right;\n",
       "    }\n",
       "</style>\n",
       "<table border=\"1\" class=\"dataframe\">\n",
       "  <thead>\n",
       "    <tr style=\"text-align: right;\">\n",
       "      <th></th>\n",
       "      <th></th>\n",
       "      <th>Rating</th>\n",
       "      <th>Timestamp</th>\n",
       "      <th>Title</th>\n",
       "      <th>Genres</th>\n",
       "      <th>Date</th>\n",
       "    </tr>\n",
       "    <tr>\n",
       "      <th>UserID</th>\n",
       "      <th>MovieID</th>\n",
       "      <th></th>\n",
       "      <th></th>\n",
       "      <th></th>\n",
       "      <th></th>\n",
       "      <th></th>\n",
       "    </tr>\n",
       "  </thead>\n",
       "  <tbody>\n",
       "    <tr>\n",
       "      <th>4007</th>\n",
       "      <th>2391</th>\n",
       "      <td>5.0</td>\n",
       "      <td>946341544</td>\n",
       "      <td>Simple Plan, A (1998)</td>\n",
       "      <td>Crime|Drama|Thriller</td>\n",
       "      <td>1999-12-27</td>\n",
       "    </tr>\n",
       "    <tr>\n",
       "      <th>4105</th>\n",
       "      <th>2717</th>\n",
       "      <td>4.5</td>\n",
       "      <td>1135591943</td>\n",
       "      <td>Ghostbusters II (1989)</td>\n",
       "      <td>Action|Comedy|Fantasy|Horror|Sci-Fi</td>\n",
       "      <td>2005-12-26</td>\n",
       "    </tr>\n",
       "    <tr>\n",
       "      <th>4538</th>\n",
       "      <th>3923</th>\n",
       "      <td>3.5</td>\n",
       "      <td>1086592200</td>\n",
       "      <td>Return of the Fly (1959)</td>\n",
       "      <td>Horror|Sci-Fi</td>\n",
       "      <td>2004-06-07</td>\n",
       "    </tr>\n",
       "    <tr>\n",
       "      <th>7145</th>\n",
       "      <th>32</th>\n",
       "      <td>4.5</td>\n",
       "      <td>1056134831</td>\n",
       "      <td>12 Monkeys (Twelve Monkeys) (1995)</td>\n",
       "      <td>Sci-Fi|Thriller</td>\n",
       "      <td>2003-06-20</td>\n",
       "    </tr>\n",
       "    <tr>\n",
       "      <th>8010</th>\n",
       "      <th>205</th>\n",
       "      <td>3.0</td>\n",
       "      <td>844937001</td>\n",
       "      <td>Unstrung Heroes (1995)</td>\n",
       "      <td>Comedy|Drama</td>\n",
       "      <td>1996-10-10</td>\n",
       "    </tr>\n",
       "  </tbody>\n",
       "</table>\n",
       "</div>"
      ],
      "text/plain": [
       "                Rating   Timestamp                               Title  \\\n",
       "UserID MovieID                                                           \n",
       "4007   2391        5.0   946341544               Simple Plan, A (1998)   \n",
       "4105   2717        4.5  1135591943              Ghostbusters II (1989)   \n",
       "4538   3923        3.5  1086592200            Return of the Fly (1959)   \n",
       "7145   32          4.5  1056134831  12 Monkeys (Twelve Monkeys) (1995)   \n",
       "8010   205         3.0   844937001              Unstrung Heroes (1995)   \n",
       "\n",
       "                                             Genres        Date  \n",
       "UserID MovieID                                                   \n",
       "4007   2391                    Crime|Drama|Thriller  1999-12-27  \n",
       "4105   2717     Action|Comedy|Fantasy|Horror|Sci-Fi  2005-12-26  \n",
       "4538   3923                           Horror|Sci-Fi  2004-06-07  \n",
       "7145   32                           Sci-Fi|Thriller  2003-06-20  \n",
       "8010   205                             Comedy|Drama  1996-10-10  "
      ]
     },
     "execution_count": 135,
     "metadata": {},
     "output_type": "execute_result"
    },
    {
     "name": "stdout",
     "output_type": "stream",
     "text": [
      "100\n",
      "there are no such cases where the user has rated the same movie twice.\n"
     ]
    }
   ],
   "source": [
    "print(\"We have %d users\"%final.UserID.nunique())\n",
    "print(\"We have %d movies\"%final.MovieID.nunique())\n",
    "\n",
    "## using DASK to use multiple core\n",
    "from dask import dataframe as dd\n",
    "# final=final.sample(frac=0.01)\n",
    "final_d = dd.from_pandas(final, npartitions=2)\n",
    "ratings_df_d = final_d.groupby(['UserID','MovieID']).aggregate(np.max)\n",
    "# ratings_df = final.groupby(['UserID','MovieID']).aggregate(np.max)\n",
    "ratings_df_d.head()\n",
    "print(len(ratings_df_d))\n",
    "# print(len(ratings_df))\n",
    "if (len(ratings_df_d) == final.shape[0]):\n",
    "# if (len(ratings_df) == final.shape[0]):\n",
    "  print(\"there are no such cases where the user has rated the same movie twice.\")"
   ]
  },
  {
   "cell_type": "markdown",
   "metadata": {},
   "source": [
    "## Creating one hot encoding for genres"
   ]
  },
  {
   "cell_type": "code",
   "execution_count": 176,
   "metadata": {},
   "outputs": [
    {
     "data": {
      "text/html": [
       "<div>\n",
       "<style scoped>\n",
       "    .dataframe tbody tr th:only-of-type {\n",
       "        vertical-align: middle;\n",
       "    }\n",
       "\n",
       "    .dataframe tbody tr th {\n",
       "        vertical-align: top;\n",
       "    }\n",
       "\n",
       "    .dataframe thead th {\n",
       "        text-align: right;\n",
       "    }\n",
       "</style>\n",
       "<table border=\"1\" class=\"dataframe\">\n",
       "  <thead>\n",
       "    <tr style=\"text-align: right;\">\n",
       "      <th></th>\n",
       "      <th>UserID</th>\n",
       "      <th>MovieID</th>\n",
       "      <th>Rating</th>\n",
       "      <th>Timestamp</th>\n",
       "      <th>Title</th>\n",
       "      <th>Genres</th>\n",
       "      <th>Date</th>\n",
       "      <th>War</th>\n",
       "      <th>Crime</th>\n",
       "      <th>Musical</th>\n",
       "      <th>...</th>\n",
       "      <th>Adventure</th>\n",
       "      <th>Comedy</th>\n",
       "      <th>Fantasy</th>\n",
       "      <th>Horror</th>\n",
       "      <th>listed)</th>\n",
       "      <th>Western</th>\n",
       "      <th>(no</th>\n",
       "      <th>Thriller</th>\n",
       "      <th>Film-Noir</th>\n",
       "      <th>genres</th>\n",
       "    </tr>\n",
       "  </thead>\n",
       "  <tbody>\n",
       "    <tr>\n",
       "      <th>0</th>\n",
       "      <td>1</td>\n",
       "      <td>122</td>\n",
       "      <td>5.0</td>\n",
       "      <td>838985046</td>\n",
       "      <td>Boomerang (1992)</td>\n",
       "      <td>Comedy Romance</td>\n",
       "      <td>1996-08-02</td>\n",
       "      <td>0</td>\n",
       "      <td>0</td>\n",
       "      <td>0</td>\n",
       "      <td>...</td>\n",
       "      <td>0</td>\n",
       "      <td>1</td>\n",
       "      <td>0</td>\n",
       "      <td>0</td>\n",
       "      <td>0</td>\n",
       "      <td>0</td>\n",
       "      <td>0</td>\n",
       "      <td>0</td>\n",
       "      <td>0</td>\n",
       "      <td>0</td>\n",
       "    </tr>\n",
       "    <tr>\n",
       "      <th>1</th>\n",
       "      <td>1</td>\n",
       "      <td>185</td>\n",
       "      <td>5.0</td>\n",
       "      <td>838983525</td>\n",
       "      <td>Net, The (1995)</td>\n",
       "      <td>Action Crime Thriller</td>\n",
       "      <td>1996-08-02</td>\n",
       "      <td>0</td>\n",
       "      <td>1</td>\n",
       "      <td>0</td>\n",
       "      <td>...</td>\n",
       "      <td>0</td>\n",
       "      <td>0</td>\n",
       "      <td>0</td>\n",
       "      <td>0</td>\n",
       "      <td>0</td>\n",
       "      <td>0</td>\n",
       "      <td>0</td>\n",
       "      <td>1</td>\n",
       "      <td>0</td>\n",
       "      <td>0</td>\n",
       "    </tr>\n",
       "    <tr>\n",
       "      <th>2</th>\n",
       "      <td>1</td>\n",
       "      <td>231</td>\n",
       "      <td>5.0</td>\n",
       "      <td>838983392</td>\n",
       "      <td>Dumb &amp; Dumber (1994)</td>\n",
       "      <td>Comedy</td>\n",
       "      <td>1996-08-02</td>\n",
       "      <td>0</td>\n",
       "      <td>0</td>\n",
       "      <td>0</td>\n",
       "      <td>...</td>\n",
       "      <td>0</td>\n",
       "      <td>1</td>\n",
       "      <td>0</td>\n",
       "      <td>0</td>\n",
       "      <td>0</td>\n",
       "      <td>0</td>\n",
       "      <td>0</td>\n",
       "      <td>0</td>\n",
       "      <td>0</td>\n",
       "      <td>0</td>\n",
       "    </tr>\n",
       "    <tr>\n",
       "      <th>3</th>\n",
       "      <td>1</td>\n",
       "      <td>292</td>\n",
       "      <td>5.0</td>\n",
       "      <td>838983421</td>\n",
       "      <td>Outbreak (1995)</td>\n",
       "      <td>Action Drama Sci-Fi Thriller</td>\n",
       "      <td>1996-08-02</td>\n",
       "      <td>0</td>\n",
       "      <td>0</td>\n",
       "      <td>0</td>\n",
       "      <td>...</td>\n",
       "      <td>0</td>\n",
       "      <td>0</td>\n",
       "      <td>0</td>\n",
       "      <td>0</td>\n",
       "      <td>0</td>\n",
       "      <td>0</td>\n",
       "      <td>0</td>\n",
       "      <td>1</td>\n",
       "      <td>0</td>\n",
       "      <td>0</td>\n",
       "    </tr>\n",
       "    <tr>\n",
       "      <th>4</th>\n",
       "      <td>1</td>\n",
       "      <td>316</td>\n",
       "      <td>5.0</td>\n",
       "      <td>838983392</td>\n",
       "      <td>Stargate (1994)</td>\n",
       "      <td>Action Adventure Sci-Fi</td>\n",
       "      <td>1996-08-02</td>\n",
       "      <td>0</td>\n",
       "      <td>0</td>\n",
       "      <td>0</td>\n",
       "      <td>...</td>\n",
       "      <td>1</td>\n",
       "      <td>0</td>\n",
       "      <td>0</td>\n",
       "      <td>0</td>\n",
       "      <td>0</td>\n",
       "      <td>0</td>\n",
       "      <td>0</td>\n",
       "      <td>0</td>\n",
       "      <td>0</td>\n",
       "      <td>0</td>\n",
       "    </tr>\n",
       "  </tbody>\n",
       "</table>\n",
       "<p>5 rows × 29 columns</p>\n",
       "</div>"
      ],
      "text/plain": [
       "   UserID  MovieID  Rating  Timestamp                 Title  \\\n",
       "0       1      122     5.0  838985046      Boomerang (1992)   \n",
       "1       1      185     5.0  838983525       Net, The (1995)   \n",
       "2       1      231     5.0  838983392  Dumb & Dumber (1994)   \n",
       "3       1      292     5.0  838983421       Outbreak (1995)   \n",
       "4       1      316     5.0  838983392       Stargate (1994)   \n",
       "\n",
       "                         Genres        Date  War  Crime  Musical  ...  \\\n",
       "0                Comedy Romance  1996-08-02    0      0        0  ...   \n",
       "1         Action Crime Thriller  1996-08-02    0      1        0  ...   \n",
       "2                        Comedy  1996-08-02    0      0        0  ...   \n",
       "3  Action Drama Sci-Fi Thriller  1996-08-02    0      0        0  ...   \n",
       "4       Action Adventure Sci-Fi  1996-08-02    0      0        0  ...   \n",
       "\n",
       "   Adventure  Comedy  Fantasy  Horror  listed)  Western  (no  Thriller  \\\n",
       "0          0       1        0       0        0        0    0         0   \n",
       "1          0       0        0       0        0        0    0         1   \n",
       "2          0       1        0       0        0        0    0         0   \n",
       "3          0       0        0       0        0        0    0         1   \n",
       "4          1       0        0       0        0        0    0         0   \n",
       "\n",
       "   Film-Noir  genres  \n",
       "0          0       0  \n",
       "1          0       0  \n",
       "2          0       0  \n",
       "3          0       0  \n",
       "4          0       0  \n",
       "\n",
       "[5 rows x 29 columns]"
      ]
     },
     "execution_count": 176,
     "metadata": {},
     "output_type": "execute_result"
    }
   ],
   "source": [
    "# finding all availbale genres\n",
    "final['Genres'] = final['Genres'].str.replace('|',' ')\n",
    "all_genres=list(set(final.Genres.str.cat(sep=' ').split()))\n",
    "final[all_genres]=0\n",
    "\n",
    "# Adding one hot endodings\n",
    "for genre in all_genres :\n",
    "  final[genre] = final.apply(lambda row:int(genre in row.Genres), axis = 1)\n",
    "final.head()"
   ]
  },
  {
   "cell_type": "markdown",
   "metadata": {},
   "source": [
    "## List of top rated movies without considering the number of rates"
   ]
  },
  {
   "cell_type": "code",
   "execution_count": 137,
   "metadata": {},
   "outputs": [
    {
     "data": {
      "text/plain": [
       "Title\n",
       "Star Wars: Episode VI - Return of the Jedi (1983)    5.0\n",
       "Fight Club (1999)                                    5.0\n",
       "Mystery Science Theater 3000: The Movie (1996)       5.0\n",
       "Harold and Maude (1971)                              5.0\n",
       "Glengarry Glen Ross (1992)                           5.0\n",
       "Name: Rating, dtype: float64"
      ]
     },
     "execution_count": 137,
     "metadata": {},
     "output_type": "execute_result"
    }
   ],
   "source": [
    "top_movies_ID=final.groupby('Title')['Rating'].mean().sort_values(ascending=False)\n",
    "top_movies_ID.head()"
   ]
  },
  {
   "cell_type": "markdown",
   "metadata": {},
   "source": [
    "## List of top rated movies, considering the count of rates (Removing movies less than 20 rates)"
   ]
  },
  {
   "cell_type": "code",
   "execution_count": 185,
   "metadata": {},
   "outputs": [
    {
     "data": {
      "text/html": [
       "<div>\n",
       "<style scoped>\n",
       "    .dataframe tbody tr th:only-of-type {\n",
       "        vertical-align: middle;\n",
       "    }\n",
       "\n",
       "    .dataframe tbody tr th {\n",
       "        vertical-align: top;\n",
       "    }\n",
       "\n",
       "    .dataframe thead th {\n",
       "        text-align: right;\n",
       "    }\n",
       "</style>\n",
       "<table border=\"1\" class=\"dataframe\">\n",
       "  <thead>\n",
       "    <tr style=\"text-align: right;\">\n",
       "      <th></th>\n",
       "      <th>mean</th>\n",
       "      <th>count</th>\n",
       "    </tr>\n",
       "    <tr>\n",
       "      <th>Title</th>\n",
       "      <th></th>\n",
       "      <th></th>\n",
       "    </tr>\n",
       "  </thead>\n",
       "  <tbody>\n",
       "    <tr>\n",
       "      <th>Shawshank Redemption, The (1994)</th>\n",
       "      <td>4.457238</td>\n",
       "      <td>31126</td>\n",
       "    </tr>\n",
       "    <tr>\n",
       "      <th>Godfather, The (1972)</th>\n",
       "      <td>4.415085</td>\n",
       "      <td>19814</td>\n",
       "    </tr>\n",
       "    <tr>\n",
       "      <th>Usual Suspects, The (1995)</th>\n",
       "      <td>4.367142</td>\n",
       "      <td>24037</td>\n",
       "    </tr>\n",
       "    <tr>\n",
       "      <th>Schindler's List (1993)</th>\n",
       "      <td>4.363483</td>\n",
       "      <td>25777</td>\n",
       "    </tr>\n",
       "    <tr>\n",
       "      <th>Sunset Blvd. (a.k.a. Sunset Boulevard) (1950)</th>\n",
       "      <td>4.321966</td>\n",
       "      <td>3255</td>\n",
       "    </tr>\n",
       "  </tbody>\n",
       "</table>\n",
       "</div>"
      ],
      "text/plain": [
       "                                                   mean  count\n",
       "Title                                                         \n",
       "Shawshank Redemption, The (1994)               4.457238  31126\n",
       "Godfather, The (1972)                          4.415085  19814\n",
       "Usual Suspects, The (1995)                     4.367142  24037\n",
       "Schindler's List (1993)                        4.363483  25777\n",
       "Sunset Blvd. (a.k.a. Sunset Boulevard) (1950)  4.321966   3255"
      ]
     },
     "execution_count": 185,
     "metadata": {},
     "output_type": "execute_result"
    }
   ],
   "source": [
    "avg_movie_rating = pd.DataFrame(final.groupby('Title')['Rating'].agg(['mean','count']))\n",
    "min_no_rates=20\n",
    "avg_movie_rating=avg_movie_rating[avg_movie_rating['count']>min_no_rates].sort_values(by='mean',ascending=False)\n",
    "avg_movie_rating.head()"
   ]
  },
  {
   "cell_type": "markdown",
   "metadata": {},
   "source": [
    "## finding the movie with maximum consecetive ratings"
   ]
  },
  {
   "cell_type": "code",
   "execution_count": 139,
   "metadata": {},
   "outputs": [
    {
     "data": {
      "text/plain": [
       "'12 Monkeys (Twelve Monkeys) (1995)'"
      ]
     },
     "execution_count": 139,
     "metadata": {},
     "output_type": "execute_result"
    }
   ],
   "source": [
    " from datetime import timedelta\n",
    " sc=lambda x: sum(x.sort_values().diff()==timedelta(days = 1))\n",
    " rating_diff_days=final.groupby('Title')['Date'].agg(sc)\n",
    " rating_diff_days.idxmax()"
   ]
  },
  {
   "cell_type": "markdown",
   "metadata": {},
   "source": [
    "## finding top 5 genres"
   ]
  },
  {
   "cell_type": "code",
   "execution_count": 140,
   "metadata": {},
   "outputs": [
    {
     "data": {
      "text/plain": [
       "['Western', 'War', 'Musical', 'Thriller', 'Action']"
      ]
     },
     "execution_count": 140,
     "metadata": {},
     "output_type": "execute_result"
    }
   ],
   "source": [
    "# Top genres bases on ratings\n",
    "genre_rating=[final[final[genre]==1]['Rating'].mean() for genre in all_genres]\n",
    "sorted_genres=[x for _,x in sorted(zip(genre_rating,all_genres))]\n",
    "sorted_genres[:5]\n"
   ]
  },
  {
   "cell_type": "markdown",
   "metadata": {},
   "source": [
    "## Item based collaborative filtering using Deep Learning (Keras)\n",
    "### 1. assigning unique ID and "
   ]
  },
  {
   "cell_type": "code",
   "execution_count": 177,
   "metadata": {},
   "outputs": [
    {
     "data": {
      "text/plain": [
       "Index(['UserID', 'MovieID', 'Rating', 'Timestamp', 'Title', 'Genres', 'Date',\n",
       "       'War', 'Crime', 'Musical', 'Romance', 'Action', 'Sci-Fi', 'Animation',\n",
       "       'Mystery', 'Children', 'Documentary', 'IMAX', 'Drama', 'Adventure',\n",
       "       'Comedy', 'Fantasy', 'Horror', 'listed)', 'Western', '(no', 'Thriller',\n",
       "       'Film-Noir', 'genres'],\n",
       "      dtype='object')"
      ]
     },
     "execution_count": 177,
     "metadata": {},
     "output_type": "execute_result"
    },
    {
     "data": {
      "text/plain": [
       "Index(['UserID', 'MovieID', 'Rating', 'Genres', 'Title'], dtype='object')"
      ]
     },
     "execution_count": 177,
     "metadata": {},
     "output_type": "execute_result"
    },
    {
     "data": {
      "text/html": [
       "<div>\n",
       "<style scoped>\n",
       "    .dataframe tbody tr th:only-of-type {\n",
       "        vertical-align: middle;\n",
       "    }\n",
       "\n",
       "    .dataframe tbody tr th {\n",
       "        vertical-align: top;\n",
       "    }\n",
       "\n",
       "    .dataframe thead th {\n",
       "        text-align: right;\n",
       "    }\n",
       "</style>\n",
       "<table border=\"1\" class=\"dataframe\">\n",
       "  <thead>\n",
       "    <tr style=\"text-align: right;\">\n",
       "      <th></th>\n",
       "      <th>UserID</th>\n",
       "      <th>MovieID</th>\n",
       "      <th>Rating</th>\n",
       "      <th>Genres</th>\n",
       "      <th>Title</th>\n",
       "    </tr>\n",
       "  </thead>\n",
       "  <tbody>\n",
       "    <tr>\n",
       "      <th>3618889</th>\n",
       "      <td>25344</td>\n",
       "      <td>2157</td>\n",
       "      <td>5.0</td>\n",
       "      <td>Comedy Drama Romance</td>\n",
       "      <td>Broadcast News (1987)</td>\n",
       "    </tr>\n",
       "    <tr>\n",
       "      <th>1245429</th>\n",
       "      <td>8912</td>\n",
       "      <td>2570</td>\n",
       "      <td>4.0</td>\n",
       "      <td>Comedy Horror Musical Sci-Fi</td>\n",
       "      <td>Rocky Horror Picture Show, The (1975)</td>\n",
       "    </tr>\n",
       "    <tr>\n",
       "      <th>401950</th>\n",
       "      <td>2978</td>\n",
       "      <td>1553</td>\n",
       "      <td>5.0</td>\n",
       "      <td>Action Thriller</td>\n",
       "      <td>Air Force One (1997)</td>\n",
       "    </tr>\n",
       "    <tr>\n",
       "      <th>5649195</th>\n",
       "      <td>39397</td>\n",
       "      <td>5887</td>\n",
       "      <td>4.0</td>\n",
       "      <td>Crime Drama</td>\n",
       "      <td>Catch Me If You Can (2002)</td>\n",
       "    </tr>\n",
       "    <tr>\n",
       "      <th>7139498</th>\n",
       "      <td>49883</td>\n",
       "      <td>1273</td>\n",
       "      <td>3.0</td>\n",
       "      <td>Action Comedy Western</td>\n",
       "      <td>Butch Cassidy and the Sundance Kid (1969)</td>\n",
       "    </tr>\n",
       "  </tbody>\n",
       "</table>\n",
       "</div>"
      ],
      "text/plain": [
       "         UserID  MovieID  Rating                        Genres  \\\n",
       "3618889   25344     2157     5.0          Comedy Drama Romance   \n",
       "1245429    8912     2570     4.0  Comedy Horror Musical Sci-Fi   \n",
       "401950     2978     1553     5.0               Action Thriller   \n",
       "5649195   39397     5887     4.0                   Crime Drama   \n",
       "7139498   49883     1273     3.0         Action Comedy Western   \n",
       "\n",
       "                                             Title  \n",
       "3618889                      Broadcast News (1987)  \n",
       "1245429      Rocky Horror Picture Show, The (1975)  \n",
       "401950                        Air Force One (1997)  \n",
       "5649195                 Catch Me If You Can (2002)  \n",
       "7139498  Butch Cassidy and the Sundance Kid (1969)  "
      ]
     },
     "execution_count": 177,
     "metadata": {},
     "output_type": "execute_result"
    }
   ],
   "source": [
    "from sklearn.model_selection import train_test_split\n",
    "final.columns\n",
    "newratedmovies = final[['UserID','MovieID','Rating','Genres','Title']].copy()\n",
    "newratedmovies.columns\n",
    "\n",
    "\n",
    "\n",
    "#  creating a mapping dictionary to map old userID into new userID that will be used as NN input\n",
    "userID_mapper=dict( zip( newratedmovies.UserID,newratedmovies.UserID.astype('category').cat.codes.values ) )\n",
    "\n",
    "# Assigning a unique value to each user and movie in range 0,no_of_users and 0,no_of_movies and 0, no_of_genres respectively.\n",
    "newratedmovies.UserID = newratedmovies.UserID.astype('category').cat.codes.values\n",
    "newratedmovies.MovieID = newratedmovies.MovieID.astype('category').cat.codes.values\n",
    "\n",
    "\n",
    "\n",
    "\n",
    "# splitting the train test set\n",
    "train, test = train_test_split(newratedmovies, test_size=0.2)\n",
    "train.head()"
   ]
  },
  {
   "cell_type": "code",
   "execution_count": 178,
   "metadata": {},
   "outputs": [
    {
     "name": "stdout",
     "output_type": "stream",
     "text": [
      "69878 10672 797\n"
     ]
    }
   ],
   "source": [
    "n_users, n_movies, n_genres = len(newratedmovies.UserID.unique()), len(newratedmovies.MovieID.unique()), len(newratedmovies.Genres.unique())\n",
    "print(n_users, n_movies, n_genres )"
   ]
  },
  {
   "cell_type": "code",
   "execution_count": 181,
   "metadata": {},
   "outputs": [
    {
     "name": "stdout",
     "output_type": "stream",
     "text": [
      "Model: \"model_10\"\n",
      "__________________________________________________________________________________________________\n",
      "Layer (type)                    Output Shape         Param #     Connected to                     \n",
      "==================================================================================================\n",
      "Item (InputLayer)               (None, 1)            0                                            \n",
      "__________________________________________________________________________________________________\n",
      "User (InputLayer)               (None, 1)            0                                            \n",
      "__________________________________________________________________________________________________\n",
      "Movie-Embedding (Embedding)     (None, 1, 10)        106730      Item[0][0]                       \n",
      "__________________________________________________________________________________________________\n",
      "User-Embedding (Embedding)      (None, 1, 10)        698790      User[0][0]                       \n",
      "__________________________________________________________________________________________________\n",
      "FlattenMovies (Flatten)         (None, 10)           0           Movie-Embedding[0][0]            \n",
      "__________________________________________________________________________________________________\n",
      "FlattenUsers (Flatten)          (None, 10)           0           User-Embedding[0][0]             \n",
      "__________________________________________________________________________________________________\n",
      "DotProduct (Dot)                (None, 1)            0           FlattenMovies[0][0]              \n",
      "                                                                 FlattenUsers[0][0]               \n",
      "==================================================================================================\n",
      "Total params: 805,520\n",
      "Trainable params: 805,520\n",
      "Non-trainable params: 0\n",
      "__________________________________________________________________________________________________\n"
     ]
    }
   ],
   "source": [
    "from keras.layers import Dense, Dropout, Flatten, Embedding, Input, dot, concatenate, merge\n",
    "import keras\n",
    "from keras.optimizers import Adam,SGD,Adagrad,Adadelta,RMSprop\n",
    "from IPython.display import SVG\n",
    "from keras.utils.vis_utils import model_to_dot\n",
    "\n",
    "def create_matrix_factorisation_model_NN(n_latent_factors, opt) :\n",
    "  movie_input = keras.layers.Input(shape=(1,),name='Item',dtype='int64')\n",
    "  movie_embedding = keras.layers.Embedding(0,n_movies, n_latent_factors, name='Movie-Embedding')(movie_input)\n",
    "  movie_vec = keras.layers.Flatten(name='FlattenMovies')(movie_embedding)\n",
    "\n",
    "  user_input = keras.layers.Input(shape=(1,),name='User',dtype='int64')\n",
    "  user_embedding = keras.layers.Embedding(n_users + 1, n_latent_factors,name='User-Embedding')(user_input)\n",
    "  user_vec = keras.layers.Flatten(name='FlattenUsers')(user_embedding)\n",
    "  \n",
    "  prod = dot([movie_vec, user_vec],name='DotProduct', axes = 1)\n",
    "\n",
    "  model = keras.Model([user_input, movie_input], prod)\n",
    "  model.compile(optimizer = opt , loss = 'mean_squared_error')\n",
    "\n",
    "  return model\n",
    "\n",
    "\n",
    "batch_size=128\n",
    "epochs=3\n",
    "TESTUSER = 10\n",
    "n_latent_factors = 10\n",
    "optimizer = Adam()\n",
    "model = create_matrix_factorisation_model(n_latent_factors, optimizer)\n",
    "model.summary()"
   ]
  },
  {
   "cell_type": "markdown",
   "metadata": {},
   "source": [
    "## Creating the NN Model and fit to train set"
   ]
  },
  {
   "cell_type": "code",
   "execution_count": 182,
   "metadata": {},
   "outputs": [
    {
     "name": "stdout",
     "output_type": "stream",
     "text": [
      "Train on 7997270 samples, validate on 1999318 samples\n",
      "Epoch 1/3\n",
      "7997270/7997270 [==============================] - 2826s 353us/step - loss: 2.1448 - val_loss: 0.8237\n",
      "Epoch 2/3\n",
      "7997270/7997270 [==============================] - 3003s 376us/step - loss: 0.7815 - val_loss: 0.7595\n",
      "Epoch 3/3\n",
      "7997270/7997270 [==============================] - 2678s 335us/step - loss: 0.7292 - val_loss: 0.7254\n"
     ]
    }
   ],
   "source": [
    "from IPython.display import clear_output\n",
    "from keras.callbacks import ReduceLROnPlateau, LearningRateScheduler, EarlyStopping, ModelCheckpoint\n",
    "\n",
    "callbacks = [EarlyStopping('val_loss', patience=2), \n",
    "             ModelCheckpoint('bestweights.h5', save_best_only=True)]\n",
    "\n",
    "History = model.fit([train.UserID,train.MovieID],train.Rating, batch_size=batch_size,\n",
    "                              epochs =epochs, validation_data = ([test.UserID,test.MovieID],test.Rating),\n",
    "                              verbose = 1, callbacks=callbacks)\n",
    "# clear_output()"
   ]
  },
  {
   "cell_type": "markdown",
   "metadata": {},
   "source": [
    "## Plotting the train and test loss for each epoch"
   ]
  },
  {
   "cell_type": "markdown",
   "metadata": {},
   "source": [
    "## Minimum RMSE "
   ]
  },
  {
   "cell_type": "code",
   "execution_count": 183,
   "metadata": {},
   "outputs": [
    {
     "name": "stdout",
     "output_type": "stream",
     "text": [
      "Minimum RMSE at epoch 3 = 0.8517\n"
     ]
    }
   ],
   "source": [
    "import math\n",
    "min_val_loss, idx = min((val, idx) for (idx, val) in enumerate(History.history['val_loss']))\n",
    "print ('Minimum RMSE at epoch', '{:d}'.format(idx+1), '=', '{:.4f}'.format(math.sqrt(min_val_loss)))"
   ]
  },
  {
   "cell_type": "markdown",
   "metadata": {},
   "source": [
    "## What are the top 5 recommended movies made to one user .  test_userID=61783"
   ]
  },
  {
   "cell_type": "code",
   "execution_count": 184,
   "metadata": {},
   "outputs": [
    {
     "data": {
      "text/plain": [
       "1600806          Man Named Pearl, A (2006)\n",
       "4575348              Down and Derby (2005)\n",
       "4779545                     Dog Run (1996)\n",
       "9080367           Demon Lover Diary (1980)\n",
       "9647237    Much Ado About Something (2001)\n",
       "Name: Title, dtype: object"
      ]
     },
     "execution_count": 184,
     "metadata": {},
     "output_type": "execute_result"
    }
   ],
   "source": [
    "# # Use the pre-trained model\n",
    "model.load_weights('bestweights.h5')\n",
    "\n",
    "# test use ID \n",
    "test_userID=61783\n",
    "TESTUSER=userID_mapper[test_userID]\n",
    "\n",
    "# finiding movies not seen by this use\n",
    "all_movies=list(set(newratedmovies.MovieID))\n",
    "user_seen_movies=list(newratedmovies[newratedmovies.UserID==TESTUSER].MovieID)\n",
    "user_not_seen_movies=[m for m in all_movies if m not in user_seen_movies]\n",
    "\n",
    "# Function to predict the ratings given User ID and Movie ID\n",
    "def predict_rating(user_id, movie_id):\n",
    "  return model.predict([np.array([user_id]), np.array([movie_id])])[0][0]\n",
    "\n",
    "# predicitng the rating for movies NOT SEEN by user\n",
    "not_seen_predicted_rating=[]\n",
    "for movieID in user_not_seen_movies:\n",
    "    not_seen_predicted_rating += [predict_rating(TESTUSER, movieID)]\n",
    "\n",
    "# Sorting the predicted ratings \n",
    "sorted_recommended_movieIDs=[x for _, x in sorted(zip(not_seen_predicted_rating, user_not_seen_movies))]\n",
    "\n",
    "# recoomeding the top 5 ratings(Titles)\n",
    "newratedmovies[newratedmovies['MovieID'].isin(sorted_recommended_movieIDs[0:5])].Title"
   ]
  }
 ],
 "metadata": {
  "interpreter": {
   "hash": "55ebfc7b36cd57a04fc3475db000f66b48c2d566b20ae0dd34a46160e9d5bf54"
  },
  "kernelspec": {
   "display_name": "Python 3.6.13 64-bit ('paytm': conda)",
   "name": "python3"
  },
  "language_info": {
   "codemirror_mode": {
    "name": "ipython",
    "version": 3
   },
   "file_extension": ".py",
   "mimetype": "text/x-python",
   "name": "python",
   "nbconvert_exporter": "python",
   "pygments_lexer": "ipython3",
   "version": "3.6.13"
  },
  "orig_nbformat": 4
 },
 "nbformat": 4,
 "nbformat_minor": 2
}