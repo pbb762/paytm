{
 "cells": [
  {
   "cell_type": "code",
   "execution_count": 158,
   "metadata": {},
   "outputs": [],
   "source": [
    "import pandas as pd\n",
    "import numpy as np\n",
    "import seaborn as sns\n",
    "import matplotlib.pyplot as plt \n",
    "%matplotlib inline\n",
    "import warnings\n",
    "warnings.filterwarnings('ignore')\n",
    "from IPython.core.interactiveshell import InteractiveShell\n",
    "InteractiveShell.ast_node_interactivity = \"all\"\n",
    "from datetime import datetime\n",
    "from keras.optimizers import Adam,SGD,Adagrad,Adadelta,RMSprop\n",
    "\n"
   ]
  },
  {
   "cell_type": "markdown",
   "metadata": {},
   "source": [
    "### Importing the data"
   ]
  },
  {
   "cell_type": "code",
   "execution_count": 159,
   "metadata": {},
   "outputs": [],
   "source": [
    "user_cols = ['UserID','MovieID','Rating','Timestamp']\n",
    "filename=\"./ratings.dat\"\n",
    "user_rating = pd.read_csv(filename, sep='::',names=user_cols, encoding='latin-1')\n",
    "# user_rating.head()\n",
    "\n",
    "item_cols = ['MovieID','Title','Genres']\n",
    "filename=\"./movies.dat\"\n",
    "movies = pd.read_csv(filename, sep='::',names=item_cols, encoding='latin-1')\n",
    "# movies.head()\n",
    "\n",
    "final = user_rating.merge(movies, how='left', left_on='MovieID', right_on='MovieID')\n",
    "\n",
    "#converting timestamp to date time \n",
    "final['Date']=final['Timestamp'].map(datetime.fromtimestamp).dt.date\n",
    "\n",
    "\n",
    "# downsampling\n",
    "# final=final.sample(frac=0.1)"
   ]
  },
  {
   "cell_type": "markdown",
   "metadata": {},
   "source": [
    "## Save and load the data for time saving"
   ]
  },
  {
   "cell_type": "code",
   "execution_count": 132,
   "metadata": {},
   "outputs": [
    {
     "data": {
      "text/plain": [
       "(100, 7)"
      ]
     },
     "execution_count": 132,
     "metadata": {},
     "output_type": "execute_result"
    }
   ],
   "source": [
    "# final.shape\n",
    "# final.to_pickle('./final.pkl')\n",
    "final=pd.read_pickle('./final.pkl')\n",
    "final=final.iloc[0:100,:]\n",
    "\n",
    "final.shape"
   ]
  },
  {
   "cell_type": "markdown",
   "metadata": {},
   "source": [
    "### Exploratory data analysis "
   ]
  },
  {
   "cell_type": "code",
   "execution_count": 171,
   "metadata": {},
   "outputs": [
    {
     "data": {
      "text/html": [
       "<div>\n",
       "<style scoped>\n",
       "    .dataframe tbody tr th:only-of-type {\n",
       "        vertical-align: middle;\n",
       "    }\n",
       "\n",
       "    .dataframe tbody tr th {\n",
       "        vertical-align: top;\n",
       "    }\n",
       "\n",
       "    .dataframe thead th {\n",
       "        text-align: right;\n",
       "    }\n",
       "</style>\n",
       "<table border=\"1\" class=\"dataframe\">\n",
       "  <thead>\n",
       "    <tr style=\"text-align: right;\">\n",
       "      <th></th>\n",
       "      <th>UserID</th>\n",
       "      <th>MovieID</th>\n",
       "      <th>Rating</th>\n",
       "      <th>Timestamp</th>\n",
       "      <th>Title</th>\n",
       "      <th>Genres</th>\n",
       "      <th>Date</th>\n",
       "    </tr>\n",
       "  </thead>\n",
       "  <tbody>\n",
       "    <tr>\n",
       "      <th>count</th>\n",
       "      <td>9.996588e+06</td>\n",
       "      <td>9.996588e+06</td>\n",
       "      <td>9.996588e+06</td>\n",
       "      <td>9.996588e+06</td>\n",
       "      <td>9996588</td>\n",
       "      <td>9996588</td>\n",
       "      <td>9996588</td>\n",
       "    </tr>\n",
       "    <tr>\n",
       "      <th>unique</th>\n",
       "      <td>NaN</td>\n",
       "      <td>NaN</td>\n",
       "      <td>NaN</td>\n",
       "      <td>NaN</td>\n",
       "      <td>10671</td>\n",
       "      <td>797</td>\n",
       "      <td>4638</td>\n",
       "    </tr>\n",
       "    <tr>\n",
       "      <th>top</th>\n",
       "      <td>NaN</td>\n",
       "      <td>NaN</td>\n",
       "      <td>NaN</td>\n",
       "      <td>NaN</td>\n",
       "      <td>Pulp Fiction (1994)</td>\n",
       "      <td>Drama</td>\n",
       "      <td>2000-11-20</td>\n",
       "    </tr>\n",
       "    <tr>\n",
       "      <th>freq</th>\n",
       "      <td>NaN</td>\n",
       "      <td>NaN</td>\n",
       "      <td>NaN</td>\n",
       "      <td>NaN</td>\n",
       "      <td>34864</td>\n",
       "      <td>815081</td>\n",
       "      <td>64114</td>\n",
       "    </tr>\n",
       "    <tr>\n",
       "      <th>mean</th>\n",
       "      <td>3.586991e+04</td>\n",
       "      <td>4.115499e+03</td>\n",
       "      <td>3.512372e+00</td>\n",
       "      <td>1.032593e+09</td>\n",
       "      <td>NaN</td>\n",
       "      <td>NaN</td>\n",
       "      <td>NaN</td>\n",
       "    </tr>\n",
       "    <tr>\n",
       "      <th>std</th>\n",
       "      <td>2.058528e+04</td>\n",
       "      <td>8.930431e+03</td>\n",
       "      <td>1.060489e+00</td>\n",
       "      <td>1.159566e+08</td>\n",
       "      <td>NaN</td>\n",
       "      <td>NaN</td>\n",
       "      <td>NaN</td>\n",
       "    </tr>\n",
       "    <tr>\n",
       "      <th>min</th>\n",
       "      <td>1.000000e+00</td>\n",
       "      <td>1.000000e+00</td>\n",
       "      <td>5.000000e-01</td>\n",
       "      <td>7.896520e+08</td>\n",
       "      <td>NaN</td>\n",
       "      <td>NaN</td>\n",
       "      <td>NaN</td>\n",
       "    </tr>\n",
       "    <tr>\n",
       "      <th>25%</th>\n",
       "      <td>1.812300e+04</td>\n",
       "      <td>6.480000e+02</td>\n",
       "      <td>3.000000e+00</td>\n",
       "      <td>9.467661e+08</td>\n",
       "      <td>NaN</td>\n",
       "      <td>NaN</td>\n",
       "      <td>NaN</td>\n",
       "    </tr>\n",
       "    <tr>\n",
       "      <th>50%</th>\n",
       "      <td>3.574000e+04</td>\n",
       "      <td>1.834000e+03</td>\n",
       "      <td>4.000000e+00</td>\n",
       "      <td>1.035426e+09</td>\n",
       "      <td>NaN</td>\n",
       "      <td>NaN</td>\n",
       "      <td>NaN</td>\n",
       "    </tr>\n",
       "    <tr>\n",
       "      <th>75%</th>\n",
       "      <td>5.360800e+04</td>\n",
       "      <td>3.624000e+03</td>\n",
       "      <td>4.000000e+00</td>\n",
       "      <td>1.126651e+09</td>\n",
       "      <td>NaN</td>\n",
       "      <td>NaN</td>\n",
       "      <td>NaN</td>\n",
       "    </tr>\n",
       "    <tr>\n",
       "      <th>max</th>\n",
       "      <td>7.156700e+04</td>\n",
       "      <td>6.513300e+04</td>\n",
       "      <td>5.000000e+00</td>\n",
       "      <td>1.231132e+09</td>\n",
       "      <td>NaN</td>\n",
       "      <td>NaN</td>\n",
       "      <td>NaN</td>\n",
       "    </tr>\n",
       "  </tbody>\n",
       "</table>\n",
       "</div>"
      ],
      "text/plain": [
       "              UserID       MovieID        Rating     Timestamp  \\\n",
       "count   9.996588e+06  9.996588e+06  9.996588e+06  9.996588e+06   \n",
       "unique           NaN           NaN           NaN           NaN   \n",
       "top              NaN           NaN           NaN           NaN   \n",
       "freq             NaN           NaN           NaN           NaN   \n",
       "mean    3.586991e+04  4.115499e+03  3.512372e+00  1.032593e+09   \n",
       "std     2.058528e+04  8.930431e+03  1.060489e+00  1.159566e+08   \n",
       "min     1.000000e+00  1.000000e+00  5.000000e-01  7.896520e+08   \n",
       "25%     1.812300e+04  6.480000e+02  3.000000e+00  9.467661e+08   \n",
       "50%     3.574000e+04  1.834000e+03  4.000000e+00  1.035426e+09   \n",
       "75%     5.360800e+04  3.624000e+03  4.000000e+00  1.126651e+09   \n",
       "max     7.156700e+04  6.513300e+04  5.000000e+00  1.231132e+09   \n",
       "\n",
       "                      Title   Genres        Date  \n",
       "count               9996588  9996588     9996588  \n",
       "unique                10671      797        4638  \n",
       "top     Pulp Fiction (1994)    Drama  2000-11-20  \n",
       "freq                  34864   815081       64114  \n",
       "mean                    NaN      NaN         NaN  \n",
       "std                     NaN      NaN         NaN  \n",
       "min                     NaN      NaN         NaN  \n",
       "25%                     NaN      NaN         NaN  \n",
       "50%                     NaN      NaN         NaN  \n",
       "75%                     NaN      NaN         NaN  \n",
       "max                     NaN      NaN         NaN  "
      ]
     },
     "execution_count": 171,
     "metadata": {},
     "output_type": "execute_result"
    },
    {
     "data": {
      "text/plain": [
       "UserID       float64\n",
       "MovieID      float64\n",
       "Rating       float64\n",
       "Timestamp      int64\n",
       "Title         object\n",
       "Genres        object\n",
       "Date          object\n",
       "dtype: object"
      ]
     },
     "execution_count": 171,
     "metadata": {},
     "output_type": "execute_result"
    },
    {
     "data": {
      "text/plain": [
       "UserID       0\n",
       "MovieID      0\n",
       "Rating       0\n",
       "Timestamp    0\n",
       "Title        0\n",
       "Genres       0\n",
       "Date         0\n",
       "dtype: int64"
      ]
     },
     "execution_count": 171,
     "metadata": {},
     "output_type": "execute_result"
    }
   ],
   "source": [
    "final.describe(include='all')\n",
    "final.dtypes\n",
    "final.isnull().sum()"
   ]
  },
  {
   "cell_type": "code",
   "execution_count": 170,
   "metadata": {},
   "outputs": [],
   "source": [
    "final=final.dropna()\n"
   ]
  },
  {
   "cell_type": "code",
   "execution_count": 164,
   "metadata": {},
   "outputs": [
    {
     "data": {
      "text/html": [
       "<div>\n",
       "<style scoped>\n",
       "    .dataframe tbody tr th:only-of-type {\n",
       "        vertical-align: middle;\n",
       "    }\n",
       "\n",
       "    .dataframe tbody tr th {\n",
       "        vertical-align: top;\n",
       "    }\n",
       "\n",
       "    .dataframe thead th {\n",
       "        text-align: right;\n",
       "    }\n",
       "</style>\n",
       "<table border=\"1\" class=\"dataframe\">\n",
       "  <thead>\n",
       "    <tr style=\"text-align: right;\">\n",
       "      <th></th>\n",
       "      <th>UserID</th>\n",
       "      <th>MovieID</th>\n",
       "      <th>Rating</th>\n",
       "      <th>Timestamp</th>\n",
       "    </tr>\n",
       "  </thead>\n",
       "  <tbody>\n",
       "    <tr>\n",
       "      <th>count</th>\n",
       "      <td>9.996596e+06</td>\n",
       "      <td>9.996589e+06</td>\n",
       "      <td>9.996597e+06</td>\n",
       "      <td>9.996597e+06</td>\n",
       "    </tr>\n",
       "    <tr>\n",
       "      <th>mean</th>\n",
       "      <td>3.586989e+04</td>\n",
       "      <td>4.115499e+03</td>\n",
       "      <td>3.512372e+00</td>\n",
       "      <td>1.032593e+09</td>\n",
       "    </tr>\n",
       "    <tr>\n",
       "      <th>std</th>\n",
       "      <td>2.058528e+04</td>\n",
       "      <td>8.930430e+03</td>\n",
       "      <td>1.060489e+00</td>\n",
       "      <td>1.159566e+08</td>\n",
       "    </tr>\n",
       "    <tr>\n",
       "      <th>min</th>\n",
       "      <td>1.000000e+00</td>\n",
       "      <td>1.000000e+00</td>\n",
       "      <td>5.000000e-01</td>\n",
       "      <td>7.896520e+08</td>\n",
       "    </tr>\n",
       "    <tr>\n",
       "      <th>25%</th>\n",
       "      <td>1.812300e+04</td>\n",
       "      <td>6.480000e+02</td>\n",
       "      <td>3.000000e+00</td>\n",
       "      <td>9.467661e+08</td>\n",
       "    </tr>\n",
       "    <tr>\n",
       "      <th>50%</th>\n",
       "      <td>3.574000e+04</td>\n",
       "      <td>1.834000e+03</td>\n",
       "      <td>4.000000e+00</td>\n",
       "      <td>1.035426e+09</td>\n",
       "    </tr>\n",
       "    <tr>\n",
       "      <th>75%</th>\n",
       "      <td>5.360800e+04</td>\n",
       "      <td>3.624000e+03</td>\n",
       "      <td>4.000000e+00</td>\n",
       "      <td>1.126651e+09</td>\n",
       "    </tr>\n",
       "    <tr>\n",
       "      <th>max</th>\n",
       "      <td>7.156700e+04</td>\n",
       "      <td>6.513300e+04</td>\n",
       "      <td>5.000000e+00</td>\n",
       "      <td>1.231132e+09</td>\n",
       "    </tr>\n",
       "  </tbody>\n",
       "</table>\n",
       "</div>"
      ],
      "text/plain": [
       "             UserID       MovieID        Rating     Timestamp\n",
       "count  9.996596e+06  9.996589e+06  9.996597e+06  9.996597e+06\n",
       "mean   3.586989e+04  4.115499e+03  3.512372e+00  1.032593e+09\n",
       "std    2.058528e+04  8.930430e+03  1.060489e+00  1.159566e+08\n",
       "min    1.000000e+00  1.000000e+00  5.000000e-01  7.896520e+08\n",
       "25%    1.812300e+04  6.480000e+02  3.000000e+00  9.467661e+08\n",
       "50%    3.574000e+04  1.834000e+03  4.000000e+00  1.035426e+09\n",
       "75%    5.360800e+04  3.624000e+03  4.000000e+00  1.126651e+09\n",
       "max    7.156700e+04  6.513300e+04  5.000000e+00  1.231132e+09"
      ]
     },
     "execution_count": 164,
     "metadata": {},
     "output_type": "execute_result"
    },
    {
     "data": {
      "text/plain": [
       "<AxesSubplot:title={'center':'Raw data'}, xlabel='Rating'>"
      ]
     },
     "execution_count": 164,
     "metadata": {},
     "output_type": "execute_result"
    },
    {
     "data": {
      "text/plain": [
       "<AxesSubplot:title={'center':'After Cleaning Ratings'}, xlabel='Rating'>"
      ]
     },
     "execution_count": 164,
     "metadata": {},
     "output_type": "execute_result"
    },
    {
     "ename": "ValueError",
     "evalue": "Cannot convert non-finite values (NA or inf) to integer",
     "output_type": "error",
     "traceback": [
      "\u001b[0;31m---------------------------------------------------------------------------\u001b[0m",
      "\u001b[0;31mValueError\u001b[0m                                Traceback (most recent call last)",
      "\u001b[0;32m<ipython-input-164-a2a75a46074b>\u001b[0m in \u001b[0;36m<module>\u001b[0;34m\u001b[0m\n\u001b[1;32m     16\u001b[0m \u001b[0;34m\u001b[0m\u001b[0m\n\u001b[1;32m     17\u001b[0m \u001b[0;31m### Changing the userID, MovieID into INT (currently float64)\u001b[0m\u001b[0;34m\u001b[0m\u001b[0;34m\u001b[0m\u001b[0;34m\u001b[0m\u001b[0m\n\u001b[0;32m---> 18\u001b[0;31m \u001b[0mfinal\u001b[0m\u001b[0;34m.\u001b[0m\u001b[0mUserID\u001b[0m\u001b[0;34m=\u001b[0m\u001b[0mfinal\u001b[0m\u001b[0;34m.\u001b[0m\u001b[0mUserID\u001b[0m\u001b[0;34m.\u001b[0m\u001b[0mastype\u001b[0m\u001b[0;34m(\u001b[0m\u001b[0mint\u001b[0m\u001b[0;34m)\u001b[0m\u001b[0;34m\u001b[0m\u001b[0;34m\u001b[0m\u001b[0m\n\u001b[0m\u001b[1;32m     19\u001b[0m \u001b[0mfinal\u001b[0m\u001b[0;34m.\u001b[0m\u001b[0mMovieID\u001b[0m\u001b[0;34m=\u001b[0m\u001b[0mfinal\u001b[0m\u001b[0;34m.\u001b[0m\u001b[0mMovieID\u001b[0m\u001b[0;34m.\u001b[0m\u001b[0mastype\u001b[0m\u001b[0;34m(\u001b[0m\u001b[0mint\u001b[0m\u001b[0;34m)\u001b[0m\u001b[0;34m\u001b[0m\u001b[0;34m\u001b[0m\u001b[0m\n",
      "\u001b[0;32m~/opt/anaconda3/envs/paytm/lib/python3.6/site-packages/pandas/core/generic.py\u001b[0m in \u001b[0;36mastype\u001b[0;34m(self, dtype, copy, errors)\u001b[0m\n\u001b[1;32m   5546\u001b[0m         \u001b[0;32melse\u001b[0m\u001b[0;34m:\u001b[0m\u001b[0;34m\u001b[0m\u001b[0;34m\u001b[0m\u001b[0m\n\u001b[1;32m   5547\u001b[0m             \u001b[0;31m# else, only a single dtype is given\u001b[0m\u001b[0;34m\u001b[0m\u001b[0;34m\u001b[0m\u001b[0;34m\u001b[0m\u001b[0m\n\u001b[0;32m-> 5548\u001b[0;31m             \u001b[0mnew_data\u001b[0m \u001b[0;34m=\u001b[0m \u001b[0mself\u001b[0m\u001b[0;34m.\u001b[0m\u001b[0m_mgr\u001b[0m\u001b[0;34m.\u001b[0m\u001b[0mastype\u001b[0m\u001b[0;34m(\u001b[0m\u001b[0mdtype\u001b[0m\u001b[0;34m=\u001b[0m\u001b[0mdtype\u001b[0m\u001b[0;34m,\u001b[0m \u001b[0mcopy\u001b[0m\u001b[0;34m=\u001b[0m\u001b[0mcopy\u001b[0m\u001b[0;34m,\u001b[0m \u001b[0merrors\u001b[0m\u001b[0;34m=\u001b[0m\u001b[0merrors\u001b[0m\u001b[0;34m,\u001b[0m\u001b[0;34m)\u001b[0m\u001b[0;34m\u001b[0m\u001b[0;34m\u001b[0m\u001b[0m\n\u001b[0m\u001b[1;32m   5549\u001b[0m             \u001b[0;32mreturn\u001b[0m \u001b[0mself\u001b[0m\u001b[0;34m.\u001b[0m\u001b[0m_constructor\u001b[0m\u001b[0;34m(\u001b[0m\u001b[0mnew_data\u001b[0m\u001b[0;34m)\u001b[0m\u001b[0;34m.\u001b[0m\u001b[0m__finalize__\u001b[0m\u001b[0;34m(\u001b[0m\u001b[0mself\u001b[0m\u001b[0;34m,\u001b[0m \u001b[0mmethod\u001b[0m\u001b[0;34m=\u001b[0m\u001b[0;34m\"astype\"\u001b[0m\u001b[0;34m)\u001b[0m\u001b[0;34m\u001b[0m\u001b[0;34m\u001b[0m\u001b[0m\n\u001b[1;32m   5550\u001b[0m \u001b[0;34m\u001b[0m\u001b[0m\n",
      "\u001b[0;32m~/opt/anaconda3/envs/paytm/lib/python3.6/site-packages/pandas/core/internals/managers.py\u001b[0m in \u001b[0;36mastype\u001b[0;34m(self, dtype, copy, errors)\u001b[0m\n\u001b[1;32m    602\u001b[0m         \u001b[0mself\u001b[0m\u001b[0;34m,\u001b[0m \u001b[0mdtype\u001b[0m\u001b[0;34m,\u001b[0m \u001b[0mcopy\u001b[0m\u001b[0;34m:\u001b[0m \u001b[0mbool\u001b[0m \u001b[0;34m=\u001b[0m \u001b[0;32mFalse\u001b[0m\u001b[0;34m,\u001b[0m \u001b[0merrors\u001b[0m\u001b[0;34m:\u001b[0m \u001b[0mstr\u001b[0m \u001b[0;34m=\u001b[0m \u001b[0;34m\"raise\"\u001b[0m\u001b[0;34m\u001b[0m\u001b[0;34m\u001b[0m\u001b[0m\n\u001b[1;32m    603\u001b[0m     ) -> \"BlockManager\":\n\u001b[0;32m--> 604\u001b[0;31m         \u001b[0;32mreturn\u001b[0m \u001b[0mself\u001b[0m\u001b[0;34m.\u001b[0m\u001b[0mapply\u001b[0m\u001b[0;34m(\u001b[0m\u001b[0;34m\"astype\"\u001b[0m\u001b[0;34m,\u001b[0m \u001b[0mdtype\u001b[0m\u001b[0;34m=\u001b[0m\u001b[0mdtype\u001b[0m\u001b[0;34m,\u001b[0m \u001b[0mcopy\u001b[0m\u001b[0;34m=\u001b[0m\u001b[0mcopy\u001b[0m\u001b[0;34m,\u001b[0m \u001b[0merrors\u001b[0m\u001b[0;34m=\u001b[0m\u001b[0merrors\u001b[0m\u001b[0;34m)\u001b[0m\u001b[0;34m\u001b[0m\u001b[0;34m\u001b[0m\u001b[0m\n\u001b[0m\u001b[1;32m    605\u001b[0m \u001b[0;34m\u001b[0m\u001b[0m\n\u001b[1;32m    606\u001b[0m     def convert(\n",
      "\u001b[0;32m~/opt/anaconda3/envs/paytm/lib/python3.6/site-packages/pandas/core/internals/managers.py\u001b[0m in \u001b[0;36mapply\u001b[0;34m(self, f, align_keys, **kwargs)\u001b[0m\n\u001b[1;32m    407\u001b[0m                 \u001b[0mapplied\u001b[0m \u001b[0;34m=\u001b[0m \u001b[0mb\u001b[0m\u001b[0;34m.\u001b[0m\u001b[0mapply\u001b[0m\u001b[0;34m(\u001b[0m\u001b[0mf\u001b[0m\u001b[0;34m,\u001b[0m \u001b[0;34m**\u001b[0m\u001b[0mkwargs\u001b[0m\u001b[0;34m)\u001b[0m\u001b[0;34m\u001b[0m\u001b[0;34m\u001b[0m\u001b[0m\n\u001b[1;32m    408\u001b[0m             \u001b[0;32melse\u001b[0m\u001b[0;34m:\u001b[0m\u001b[0;34m\u001b[0m\u001b[0;34m\u001b[0m\u001b[0m\n\u001b[0;32m--> 409\u001b[0;31m                 \u001b[0mapplied\u001b[0m \u001b[0;34m=\u001b[0m \u001b[0mgetattr\u001b[0m\u001b[0;34m(\u001b[0m\u001b[0mb\u001b[0m\u001b[0;34m,\u001b[0m \u001b[0mf\u001b[0m\u001b[0;34m)\u001b[0m\u001b[0;34m(\u001b[0m\u001b[0;34m**\u001b[0m\u001b[0mkwargs\u001b[0m\u001b[0;34m)\u001b[0m\u001b[0;34m\u001b[0m\u001b[0;34m\u001b[0m\u001b[0m\n\u001b[0m\u001b[1;32m    410\u001b[0m             \u001b[0mresult_blocks\u001b[0m \u001b[0;34m=\u001b[0m \u001b[0m_extend_blocks\u001b[0m\u001b[0;34m(\u001b[0m\u001b[0mapplied\u001b[0m\u001b[0;34m,\u001b[0m \u001b[0mresult_blocks\u001b[0m\u001b[0;34m)\u001b[0m\u001b[0;34m\u001b[0m\u001b[0;34m\u001b[0m\u001b[0m\n\u001b[1;32m    411\u001b[0m \u001b[0;34m\u001b[0m\u001b[0m\n",
      "\u001b[0;32m~/opt/anaconda3/envs/paytm/lib/python3.6/site-packages/pandas/core/internals/blocks.py\u001b[0m in \u001b[0;36mastype\u001b[0;34m(self, dtype, copy, errors)\u001b[0m\n\u001b[1;32m    593\u001b[0m             \u001b[0mvals1d\u001b[0m \u001b[0;34m=\u001b[0m \u001b[0mvalues\u001b[0m\u001b[0;34m.\u001b[0m\u001b[0mravel\u001b[0m\u001b[0;34m(\u001b[0m\u001b[0;34m)\u001b[0m\u001b[0;34m\u001b[0m\u001b[0;34m\u001b[0m\u001b[0m\n\u001b[1;32m    594\u001b[0m             \u001b[0;32mtry\u001b[0m\u001b[0;34m:\u001b[0m\u001b[0;34m\u001b[0m\u001b[0;34m\u001b[0m\u001b[0m\n\u001b[0;32m--> 595\u001b[0;31m                 \u001b[0mvalues\u001b[0m \u001b[0;34m=\u001b[0m \u001b[0mastype_nansafe\u001b[0m\u001b[0;34m(\u001b[0m\u001b[0mvals1d\u001b[0m\u001b[0;34m,\u001b[0m \u001b[0mdtype\u001b[0m\u001b[0;34m,\u001b[0m \u001b[0mcopy\u001b[0m\u001b[0;34m=\u001b[0m\u001b[0;32mTrue\u001b[0m\u001b[0;34m)\u001b[0m\u001b[0;34m\u001b[0m\u001b[0;34m\u001b[0m\u001b[0m\n\u001b[0m\u001b[1;32m    596\u001b[0m             \u001b[0;32mexcept\u001b[0m \u001b[0;34m(\u001b[0m\u001b[0mValueError\u001b[0m\u001b[0;34m,\u001b[0m \u001b[0mTypeError\u001b[0m\u001b[0;34m)\u001b[0m\u001b[0;34m:\u001b[0m\u001b[0;34m\u001b[0m\u001b[0;34m\u001b[0m\u001b[0m\n\u001b[1;32m    597\u001b[0m                 \u001b[0;31m# e.g. astype_nansafe can fail on object-dtype of strings\u001b[0m\u001b[0;34m\u001b[0m\u001b[0;34m\u001b[0m\u001b[0;34m\u001b[0m\u001b[0m\n",
      "\u001b[0;32m~/opt/anaconda3/envs/paytm/lib/python3.6/site-packages/pandas/core/dtypes/cast.py\u001b[0m in \u001b[0;36mastype_nansafe\u001b[0;34m(arr, dtype, copy, skipna)\u001b[0m\n\u001b[1;32m    966\u001b[0m \u001b[0;34m\u001b[0m\u001b[0m\n\u001b[1;32m    967\u001b[0m         \u001b[0;32mif\u001b[0m \u001b[0;32mnot\u001b[0m \u001b[0mnp\u001b[0m\u001b[0;34m.\u001b[0m\u001b[0misfinite\u001b[0m\u001b[0;34m(\u001b[0m\u001b[0marr\u001b[0m\u001b[0;34m)\u001b[0m\u001b[0;34m.\u001b[0m\u001b[0mall\u001b[0m\u001b[0;34m(\u001b[0m\u001b[0;34m)\u001b[0m\u001b[0;34m:\u001b[0m\u001b[0;34m\u001b[0m\u001b[0;34m\u001b[0m\u001b[0m\n\u001b[0;32m--> 968\u001b[0;31m             \u001b[0;32mraise\u001b[0m \u001b[0mValueError\u001b[0m\u001b[0;34m(\u001b[0m\u001b[0;34m\"Cannot convert non-finite values (NA or inf) to integer\"\u001b[0m\u001b[0;34m)\u001b[0m\u001b[0;34m\u001b[0m\u001b[0;34m\u001b[0m\u001b[0m\n\u001b[0m\u001b[1;32m    969\u001b[0m \u001b[0;34m\u001b[0m\u001b[0m\n\u001b[1;32m    970\u001b[0m     \u001b[0;32melif\u001b[0m \u001b[0mis_object_dtype\u001b[0m\u001b[0;34m(\u001b[0m\u001b[0marr\u001b[0m\u001b[0;34m)\u001b[0m\u001b[0;34m:\u001b[0m\u001b[0;34m\u001b[0m\u001b[0;34m\u001b[0m\u001b[0m\n",
      "\u001b[0;31mValueError\u001b[0m: Cannot convert non-finite values (NA or inf) to integer"
     ]
    },
    {
     "data": {
      "image/png": "[encoded data removed]",
      "text/plain": [
       "<Figure size 432x288 with 2 Axes>"
      ]
     },
     "metadata": {
      "needs_background": "light"
     },
     "output_type": "display_data"
    }
   ],
   "source": [
    "### Removing rows with nan in tile and genre\n",
    "final.dropna(inplace=True)\n",
    "final.describe()\n",
    "\n",
    "### Checking the hisotgrma of Ratings\n",
    "fig, axes = plt.subplots(nrows=1, ncols=2)\n",
    "count_rates = final.groupby('Rating').count()\n",
    "count_rates['perc_total']=round(count_rates['UserID']*100/count_rates['UserID'].sum(),1)\n",
    "count_rates['perc_total'].plot.bar(title=\"Raw data\",ax=axes[0])\n",
    "\n",
    "### Removing rows with negative Rating and Ratings more than 5\n",
    "final=final[(final.Rating<=5) & (final.Rating>=0)]\n",
    "count_rates = final.groupby('Rating').count()\n",
    "count_rates['perc_total']=round(count_rates['UserID']*100/count_rates['UserID'].sum(),1)\n",
    "count_rates['perc_total'].plot.bar(title=\"After Cleaning Ratings\",ax=axes[1])\n",
    "\n",
    "### Changing the userID, MovieID into INT (currently float64)\n",
    "final.UserID=final.UserID.astype(int)\n",
    "final.MovieID=final.MovieID.astype(int)"
   ]
  },
  {
   "cell_type": "markdown",
   "metadata": {},
   "source": [
    "### Removing duplicate ratings if any\n",
    "### using DASK to reduce time"
   ]
  },
  {
   "cell_type": "code",
   "execution_count": 135,
   "metadata": {},
   "outputs": [
    {
     "name": "stdout",
     "output_type": "stream",
     "text": [
      "We have 100 users\n",
      "We have 100 movies\n"
     ]
    },
    {
     "data": {
      "text/html": [
       "<div>\n",
       "<style scoped>\n",
       "    .dataframe tbody tr th:only-of-type {\n",
       "        vertical-align: middle;\n",
       "    }\n",
       "\n",
       "    .dataframe tbody tr th {\n",
       "        vertical-align: top;\n",
       "    }\n",
       "\n",
       "    .dataframe thead th {\n",
       "        text-align: right;\n",
       "    }\n",
       "</style>\n",
       "<table border=\"1\" class=\"dataframe\">\n",
       "  <thead>\n",
       "    <tr style=\"text-align: right;\">\n",
       "      <th></th>\n",
       "      <th></th>\n",
       "      <th>Rating</th>\n",
       "      <th>Timestamp</th>\n",
       "      <th>Title</th>\n",
       "      <th>Genres</th>\n",
       "      <th>Date</th>\n",
       "    </tr>\n",
       "    <tr>\n",
       "      <th>UserID</th>\n",
       "      <th>MovieID</th>\n",
       "      <th></th>\n",
       "      <th></th>\n",
       "      <th></th>\n",
       "      <th></th>\n",
       "      <th></th>\n",
       "    </tr>\n",
       "  </thead>\n",
       "  <tbody>\n",
       "    <tr>\n",
       "      <th>4007</th>\n",
       "      <th>2391</th>\n",
       "      <td>5.0</td>\n",
       "      <td>946341544</td>\n",
       "      <td>Simple Plan, A (1998)</td>\n",
       "      <td>Crime|Drama|Thriller</td>\n",
       "      <td>1999-12-27</td>\n",
       "    </tr>\n",
       "    <tr>\n",
       "      <th>4105</th>\n",
       "      <th>2717</th>\n",
       "      <td>4.5</td>\n",
       "      <td>1135591943</td>\n",
       "      <td>Ghostbusters II (1989)</td>\n",
       "      <td>Action|Comedy|Fantasy|Horror|Sci-Fi</td>\n",
       "      <td>2005-12-26</td>\n",
       "    </tr>\n",
       "    <tr>\n",
       "      <th>4538</th>\n",
       "      <th>3923</th>\n",
       "      <td>3.5</td>\n",
       "      <td>1086592200</td>\n",
       "      <td>Return of the Fly (1959)</td>\n",
       "      <td>Horror|Sci-Fi</td>\n",
       "      <td>2004-06-07</td>\n",
       "    </tr>\n",
       "    <tr>\n",
       "      <th>7145</th>\n",
       "      <th>32</th>\n",
       "      <td>4.5</td>\n",
       "      <td>1056134831</td>\n",
       "      <td>12 Monkeys (Twelve Monkeys) (1995)</td>\n",
       "      <td>Sci-Fi|Thriller</td>\n",
       "      <td>2003-06-20</td>\n",
       "    </tr>\n",
       "    <tr>\n",
       "      <th>8010</th>\n",
       "      <th>205</th>\n",
       "      <td>3.0</td>\n",
       "      <td>844937001</td>\n",
       "      <td>Unstrung Heroes (1995)</td>\n",
       "      <td>Comedy|Drama</td>\n",
       "      <td>1996-10-10</td>\n",
       "    </tr>\n",
       "  </tbody>\n",
       "</table>\n",
       "</div>"
      ],
      "text/plain": [
       "                Rating   Timestamp                               Title  \\\n",
       "UserID MovieID                                                           \n",
       "4007   2391        5.0   946341544               Simple Plan, A (1998)   \n",
       "4105   2717        4.5  1135591943              Ghostbusters II (1989)   \n",
       "4538   3923        3.5  1086592200            Return of the Fly (1959)   \n",
       "7145   32          4.5  1056134831  12 Monkeys (Twelve Monkeys) (1995)   \n",
       "8010   205         3.0   844937001              Unstrung Heroes (1995)   \n",
       "\n",
       "                                             Genres        Date  \n",
       "UserID MovieID                                                   \n",
       "4007   2391                    Crime|Drama|Thriller  1999-12-27  \n",
       "4105   2717     Action|Comedy|Fantasy|Horror|Sci-Fi  2005-12-26  \n",
       "4538   3923                           Horror|Sci-Fi  2004-06-07  \n",
       "7145   32                           Sci-Fi|Thriller  2003-06-20  \n",
       "8010   205                             Comedy|Drama  1996-10-10  "
      ]
     },
     "execution_count": 135,
     "metadata": {},
     "output_type": "execute_result"
    },
    {
     "name": "stdout",
     "output_type": "stream",
     "text": [
      "100\n",
      "there are no such cases where the user has rated the same movie twice.\n"
     ]
    }
   ],
   "source": [
    "print(\"We have %d users\"%final.UserID.nunique())\n",
    "print(\"We have %d movies\"%final.MovieID.nunique())\n",
    "\n",
    "## using DASK to use multiple core\n",
    "from dask import dataframe as dd\n",
    "# final=final.sample(frac=0.01)\n",
    "final_d = dd.from_pandas(final, npartitions=2)\n",
    "ratings_df_d = final_d.groupby(['UserID','MovieID']).aggregate(np.max)\n",
    "# ratings_df = final.groupby(['UserID','MovieID']).aggregate(np.max)\n",
    "ratings_df_d.head()\n",
    "print(len(ratings_df_d))\n",
    "# print(len(ratings_df))\n",
    "if (len(ratings_df_d) == final.shape[0]):\n",
    "# if (len(ratings_df) == final.shape[0]):\n",
    "  print(\"there are no such cases where the user has rated the same movie twice.\")"
   ]
  },
  {
   "cell_type": "markdown",
   "metadata": {},
   "source": [
    "## Creating one hot encoding for genres"
   ]
  },
  {
   "cell_type": "code",
   "execution_count": 136,
   "metadata": {},
   "outputs": [
    {
     "data": {
      "text/html": [
       "<div>\n",
       "<style scoped>\n",
       "    .dataframe tbody tr th:only-of-type {\n",
       "        vertical-align: middle;\n",
       "    }\n",
       "\n",
       "    .dataframe tbody tr th {\n",
       "        vertical-align: top;\n",
       "    }\n",
       "\n",
       "    .dataframe thead th {\n",
       "        text-align: right;\n",
       "    }\n",
       "</style>\n",
       "<table border=\"1\" class=\"dataframe\">\n",
       "  <thead>\n",
       "    <tr style=\"text-align: right;\">\n",
       "      <th></th>\n",
       "      <th>UserID</th>\n",
       "      <th>MovieID</th>\n",
       "      <th>Rating</th>\n",
       "      <th>Timestamp</th>\n",
       "      <th>Title</th>\n",
       "      <th>Genres</th>\n",
       "      <th>Date</th>\n",
       "      <th>Thriller</th>\n",
       "      <th>Mystery</th>\n",
       "      <th>Animation</th>\n",
       "      <th>...</th>\n",
       "      <th>Crime</th>\n",
       "      <th>Musical</th>\n",
       "      <th>Western</th>\n",
       "      <th>Romance</th>\n",
       "      <th>Action</th>\n",
       "      <th>Sci-Fi</th>\n",
       "      <th>Children</th>\n",
       "      <th>Documentary</th>\n",
       "      <th>Adventure</th>\n",
       "      <th>Drama</th>\n",
       "    </tr>\n",
       "  </thead>\n",
       "  <tbody>\n",
       "    <tr>\n",
       "      <th>8622895</th>\n",
       "      <td>61783</td>\n",
       "      <td>836</td>\n",
       "      <td>3.0</td>\n",
       "      <td>1046525928</td>\n",
       "      <td>Chain Reaction (1996)</td>\n",
       "      <td>Action Adventure Thriller</td>\n",
       "      <td>2003-03-01</td>\n",
       "      <td>1</td>\n",
       "      <td>0</td>\n",
       "      <td>0</td>\n",
       "      <td>...</td>\n",
       "      <td>0</td>\n",
       "      <td>0</td>\n",
       "      <td>0</td>\n",
       "      <td>0</td>\n",
       "      <td>1</td>\n",
       "      <td>0</td>\n",
       "      <td>0</td>\n",
       "      <td>0</td>\n",
       "      <td>1</td>\n",
       "      <td>0</td>\n",
       "    </tr>\n",
       "    <tr>\n",
       "      <th>7408626</th>\n",
       "      <td>52909</td>\n",
       "      <td>1957</td>\n",
       "      <td>0.5</td>\n",
       "      <td>1154199427</td>\n",
       "      <td>Chariots of Fire (1981)</td>\n",
       "      <td>Drama</td>\n",
       "      <td>2006-07-29</td>\n",
       "      <td>0</td>\n",
       "      <td>0</td>\n",
       "      <td>0</td>\n",
       "      <td>...</td>\n",
       "      <td>0</td>\n",
       "      <td>0</td>\n",
       "      <td>0</td>\n",
       "      <td>0</td>\n",
       "      <td>0</td>\n",
       "      <td>0</td>\n",
       "      <td>0</td>\n",
       "      <td>0</td>\n",
       "      <td>0</td>\n",
       "      <td>1</td>\n",
       "    </tr>\n",
       "    <tr>\n",
       "      <th>1237386</th>\n",
       "      <td>9114</td>\n",
       "      <td>3190</td>\n",
       "      <td>1.0</td>\n",
       "      <td>1003127192</td>\n",
       "      <td>Supernova (2000)</td>\n",
       "      <td>Adventure Sci-Fi Thriller</td>\n",
       "      <td>2001-10-15</td>\n",
       "      <td>1</td>\n",
       "      <td>0</td>\n",
       "      <td>0</td>\n",
       "      <td>...</td>\n",
       "      <td>0</td>\n",
       "      <td>0</td>\n",
       "      <td>0</td>\n",
       "      <td>0</td>\n",
       "      <td>0</td>\n",
       "      <td>1</td>\n",
       "      <td>0</td>\n",
       "      <td>0</td>\n",
       "      <td>1</td>\n",
       "      <td>0</td>\n",
       "    </tr>\n",
       "    <tr>\n",
       "      <th>6512008</th>\n",
       "      <td>46568</td>\n",
       "      <td>4855</td>\n",
       "      <td>4.0</td>\n",
       "      <td>1016831978</td>\n",
       "      <td>Dirty Harry (1971)</td>\n",
       "      <td>Action Crime Drama Thriller</td>\n",
       "      <td>2002-03-22</td>\n",
       "      <td>1</td>\n",
       "      <td>0</td>\n",
       "      <td>0</td>\n",
       "      <td>...</td>\n",
       "      <td>1</td>\n",
       "      <td>0</td>\n",
       "      <td>0</td>\n",
       "      <td>0</td>\n",
       "      <td>1</td>\n",
       "      <td>0</td>\n",
       "      <td>0</td>\n",
       "      <td>0</td>\n",
       "      <td>0</td>\n",
       "      <td>1</td>\n",
       "    </tr>\n",
       "    <tr>\n",
       "      <th>4737621</th>\n",
       "      <td>33855</td>\n",
       "      <td>2959</td>\n",
       "      <td>5.0</td>\n",
       "      <td>1067202128</td>\n",
       "      <td>Fight Club (1999)</td>\n",
       "      <td>Action Crime Drama Thriller</td>\n",
       "      <td>2003-10-26</td>\n",
       "      <td>1</td>\n",
       "      <td>0</td>\n",
       "      <td>0</td>\n",
       "      <td>...</td>\n",
       "      <td>1</td>\n",
       "      <td>0</td>\n",
       "      <td>0</td>\n",
       "      <td>0</td>\n",
       "      <td>1</td>\n",
       "      <td>0</td>\n",
       "      <td>0</td>\n",
       "      <td>0</td>\n",
       "      <td>0</td>\n",
       "      <td>1</td>\n",
       "    </tr>\n",
       "  </tbody>\n",
       "</table>\n",
       "<p>5 rows × 24 columns</p>\n",
       "</div>"
      ],
      "text/plain": [
       "         UserID  MovieID  Rating   Timestamp                    Title  \\\n",
       "8622895   61783      836     3.0  1046525928    Chain Reaction (1996)   \n",
       "7408626   52909     1957     0.5  1154199427  Chariots of Fire (1981)   \n",
       "1237386    9114     3190     1.0  1003127192         Supernova (2000)   \n",
       "6512008   46568     4855     4.0  1016831978       Dirty Harry (1971)   \n",
       "4737621   33855     2959     5.0  1067202128        Fight Club (1999)   \n",
       "\n",
       "                              Genres        Date  Thriller  Mystery  \\\n",
       "8622895    Action Adventure Thriller  2003-03-01         1        0   \n",
       "7408626                        Drama  2006-07-29         0        0   \n",
       "1237386    Adventure Sci-Fi Thriller  2001-10-15         1        0   \n",
       "6512008  Action Crime Drama Thriller  2002-03-22         1        0   \n",
       "4737621  Action Crime Drama Thriller  2003-10-26         1        0   \n",
       "\n",
       "         Animation  ...  Crime  Musical  Western  Romance  Action  Sci-Fi  \\\n",
       "8622895          0  ...      0        0        0        0       1       0   \n",
       "7408626          0  ...      0        0        0        0       0       0   \n",
       "1237386          0  ...      0        0        0        0       0       1   \n",
       "6512008          0  ...      1        0        0        0       1       0   \n",
       "4737621          0  ...      1        0        0        0       1       0   \n",
       "\n",
       "         Children  Documentary  Adventure  Drama  \n",
       "8622895         0            0          1      0  \n",
       "7408626         0            0          0      1  \n",
       "1237386         0            0          1      0  \n",
       "6512008         0            0          0      1  \n",
       "4737621         0            0          0      1  \n",
       "\n",
       "[5 rows x 24 columns]"
      ]
     },
     "execution_count": 136,
     "metadata": {},
     "output_type": "execute_result"
    }
   ],
   "source": [
    "# finding all availbale genres\n",
    "final['Genres'] = final['Genres'].str.replace('|',' ')\n",
    "all_genres=list(set(final.Genres.str.cat(sep=' ').split()))\n",
    "final[all_genres]=0\n",
    "\n",
    "# Adding one hot endodings\n",
    "for genre in all_genres :\n",
    "  final[genre] = final.apply(lambda row:int(genre in row.Genres), axis = 1)\n",
    "final.head()"
   ]
  },
  {
   "cell_type": "markdown",
   "metadata": {},
   "source": [
    "## List of top rated movies without considering the number of rates"
   ]
  },
  {
   "cell_type": "code",
   "execution_count": 137,
   "metadata": {},
   "outputs": [
    {
     "data": {
      "text/plain": [
       "Title\n",
       "Star Wars: Episode VI - Return of the Jedi (1983)    5.0\n",
       "Fight Club (1999)                                    5.0\n",
       "Mystery Science Theater 3000: The Movie (1996)       5.0\n",
       "Harold and Maude (1971)                              5.0\n",
       "Glengarry Glen Ross (1992)                           5.0\n",
       "Name: Rating, dtype: float64"
      ]
     },
     "execution_count": 137,
     "metadata": {},
     "output_type": "execute_result"
    }
   ],
   "source": [
    "top_movies_ID=final.groupby('Title')['Rating'].mean().sort_values(ascending=False)\n",
    "top_movies_ID.head()"
   ]
  },
  {
   "cell_type": "markdown",
   "metadata": {},
   "source": [
    "## List of top rated movies, considering the count of rates (Removing movies less than 20 rates)"
   ]
  },
  {
   "cell_type": "code",
   "execution_count": 138,
   "metadata": {},
   "outputs": [
    {
     "data": {
      "text/html": [
       "<div>\n",
       "<style scoped>\n",
       "    .dataframe tbody tr th:only-of-type {\n",
       "        vertical-align: middle;\n",
       "    }\n",
       "\n",
       "    .dataframe tbody tr th {\n",
       "        vertical-align: top;\n",
       "    }\n",
       "\n",
       "    .dataframe thead th {\n",
       "        text-align: right;\n",
       "    }\n",
       "</style>\n",
       "<table border=\"1\" class=\"dataframe\">\n",
       "  <thead>\n",
       "    <tr style=\"text-align: right;\">\n",
       "      <th></th>\n",
       "      <th>mean</th>\n",
       "      <th>count</th>\n",
       "    </tr>\n",
       "    <tr>\n",
       "      <th>Title</th>\n",
       "      <th></th>\n",
       "      <th></th>\n",
       "    </tr>\n",
       "  </thead>\n",
       "  <tbody>\n",
       "  </tbody>\n",
       "</table>\n",
       "</div>"
      ],
      "text/plain": [
       "Empty DataFrame\n",
       "Columns: [mean, count]\n",
       "Index: []"
      ]
     },
     "execution_count": 138,
     "metadata": {},
     "output_type": "execute_result"
    }
   ],
   "source": [
    "avg_movie_rating = pd.DataFrame(final.groupby('Title')['Rating'].agg(['mean','count']))\n",
    "min_no_rates=20\n",
    "avg_movie_rating=avg_movie_rating[avg_movie_rating['count']>min_no_rates].sort_values(by='mean',ascending=False)\n",
    "avg_movie_rating.head()"
   ]
  },
  {
   "cell_type": "markdown",
   "metadata": {},
   "source": [
    "## finding the movie with maximum consecetive ratings"
   ]
  },
  {
   "cell_type": "code",
   "execution_count": 139,
   "metadata": {},
   "outputs": [
    {
     "data": {
      "text/plain": [
       "'12 Monkeys (Twelve Monkeys) (1995)'"
      ]
     },
     "execution_count": 139,
     "metadata": {},
     "output_type": "execute_result"
    }
   ],
   "source": [
    " from datetime import timedelta\n",
    " sc=lambda x: sum(x.sort_values().diff()==timedelta(days = 1))\n",
    " rating_diff_days=final.groupby('Title')['Date'].agg(sc)\n",
    " rating_diff_days.idxmax()"
   ]
  },
  {
   "cell_type": "markdown",
   "metadata": {},
   "source": [
    "## finding top 5 genres"
   ]
  },
  {
   "cell_type": "code",
   "execution_count": 140,
   "metadata": {},
   "outputs": [
    {
     "data": {
      "text/plain": [
       "['Western', 'War', 'Musical', 'Thriller', 'Action']"
      ]
     },
     "execution_count": 140,
     "metadata": {},
     "output_type": "execute_result"
    }
   ],
   "source": [
    "# Top genres bases on ratings\n",
    "genre_rating=[final[final[genre]==1]['Rating'].mean() for genre in all_genres]\n",
    "sorted_genres=[x for _,x in sorted(zip(genre_rating,all_genres))]\n",
    "sorted_genres[:5]\n"
   ]
  },
  {
   "cell_type": "markdown",
   "metadata": {},
   "source": [
    "## Item based collaborative filtering using Deep Learning (Keras)\n",
    "### 1. assigning unique ID and "
   ]
  },
  {
   "cell_type": "code",
   "execution_count": 141,
   "metadata": {},
   "outputs": [
    {
     "data": {
      "text/plain": [
       "Index(['UserID', 'MovieID', 'Rating', 'Timestamp', 'Title', 'Genres', 'Date',\n",
       "       'Thriller', 'Mystery', 'Animation', 'Fantasy', 'Horror', 'Comedy',\n",
       "       'War', 'Crime', 'Musical', 'Western', 'Romance', 'Action', 'Sci-Fi',\n",
       "       'Children', 'Documentary', 'Adventure', 'Drama'],\n",
       "      dtype='object')"
      ]
     },
     "execution_count": 141,
     "metadata": {},
     "output_type": "execute_result"
    },
    {
     "data": {
      "text/plain": [
       "Index(['UserID', 'MovieID', 'Rating', 'Genres', 'Title'], dtype='object')"
      ]
     },
     "execution_count": 141,
     "metadata": {},
     "output_type": "execute_result"
    },
    {
     "data": {
      "text/html": [
       "<div>\n",
       "<style scoped>\n",
       "    .dataframe tbody tr th:only-of-type {\n",
       "        vertical-align: middle;\n",
       "    }\n",
       "\n",
       "    .dataframe tbody tr th {\n",
       "        vertical-align: top;\n",
       "    }\n",
       "\n",
       "    .dataframe thead th {\n",
       "        text-align: right;\n",
       "    }\n",
       "</style>\n",
       "<table border=\"1\" class=\"dataframe\">\n",
       "  <thead>\n",
       "    <tr style=\"text-align: right;\">\n",
       "      <th></th>\n",
       "      <th>UserID</th>\n",
       "      <th>MovieID</th>\n",
       "      <th>Rating</th>\n",
       "      <th>Genres</th>\n",
       "      <th>Title</th>\n",
       "    </tr>\n",
       "  </thead>\n",
       "  <tbody>\n",
       "    <tr>\n",
       "      <th>2622089</th>\n",
       "      <td>19</td>\n",
       "      <td>24</td>\n",
       "      <td>4.0</td>\n",
       "      <td>Adventure Children</td>\n",
       "      <td>Adventures of Pinocchio, The (1996)</td>\n",
       "    </tr>\n",
       "    <tr>\n",
       "      <th>8797136</th>\n",
       "      <td>83</td>\n",
       "      <td>91</td>\n",
       "      <td>4.5</td>\n",
       "      <td>Comedy Romance</td>\n",
       "      <td>Adam's Rib (1949)</td>\n",
       "    </tr>\n",
       "    <tr>\n",
       "      <th>2103342</th>\n",
       "      <td>15</td>\n",
       "      <td>52</td>\n",
       "      <td>3.0</td>\n",
       "      <td>Comedy Mystery</td>\n",
       "      <td>Trouble with Harry, The (1955)</td>\n",
       "    </tr>\n",
       "    <tr>\n",
       "      <th>8053122</th>\n",
       "      <td>74</td>\n",
       "      <td>85</td>\n",
       "      <td>3.5</td>\n",
       "      <td>Comedy</td>\n",
       "      <td>Van Wilder (2002)</td>\n",
       "    </tr>\n",
       "    <tr>\n",
       "      <th>5883886</th>\n",
       "      <td>50</td>\n",
       "      <td>15</td>\n",
       "      <td>3.0</td>\n",
       "      <td>Comedy</td>\n",
       "      <td>Ace Ventura: Pet Detective (1994)</td>\n",
       "    </tr>\n",
       "  </tbody>\n",
       "</table>\n",
       "</div>"
      ],
      "text/plain": [
       "         UserID  MovieID  Rating              Genres  \\\n",
       "2622089      19       24     4.0  Adventure Children   \n",
       "8797136      83       91     4.5      Comedy Romance   \n",
       "2103342      15       52     3.0      Comedy Mystery   \n",
       "8053122      74       85     3.5              Comedy   \n",
       "5883886      50       15     3.0              Comedy   \n",
       "\n",
       "                                       Title  \n",
       "2622089  Adventures of Pinocchio, The (1996)  \n",
       "8797136                    Adam's Rib (1949)  \n",
       "2103342       Trouble with Harry, The (1955)  \n",
       "8053122                    Van Wilder (2002)  \n",
       "5883886    Ace Ventura: Pet Detective (1994)  "
      ]
     },
     "execution_count": 141,
     "metadata": {},
     "output_type": "execute_result"
    }
   ],
   "source": [
    "from sklearn.model_selection import train_test_split\n",
    "final.columns\n",
    "newratedmovies = final[['UserID','MovieID','Rating','Genres','Title']].copy()\n",
    "newratedmovies.columns\n",
    "\n",
    "\n",
    "\n",
    "#  creating a mapping dictionary to map old userID into new userID that will be used as NN input\n",
    "userID_mapper=dict( zip( newratedmovies.UserID,newratedmovies.UserID.astype('category').cat.codes.values ) )\n",
    "\n",
    "# Assigning a unique value to each user and movie in range 0,no_of_users and 0,no_of_movies and 0, no_of_genres respectively.\n",
    "newratedmovies.UserID = newratedmovies.UserID.astype('category').cat.codes.values\n",
    "newratedmovies.MovieID = newratedmovies.MovieID.astype('category').cat.codes.values\n",
    "\n",
    "\n",
    "\n",
    "\n",
    "# splitting the train test set\n",
    "train, test = train_test_split(newratedmovies, test_size=0.2)\n",
    "train.head()"
   ]
  },
  {
   "cell_type": "code",
   "execution_count": 142,
   "metadata": {},
   "outputs": [
    {
     "name": "stdout",
     "output_type": "stream",
     "text": [
      "100 100 68\n"
     ]
    }
   ],
   "source": [
    "n_users, n_movies, n_genres = len(newratedmovies.UserID.unique()), len(newratedmovies.MovieID.unique()), len(newratedmovies.Genres.unique())\n",
    "print(n_users, n_movies, n_genres )"
   ]
  },
  {
   "cell_type": "code",
   "execution_count": 143,
   "metadata": {},
   "outputs": [
    {
     "name": "stdout",
     "output_type": "stream",
     "text": [
      "Model: \"model_8\"\n",
      "__________________________________________________________________________________________________\n",
      "Layer (type)                    Output Shape         Param #     Connected to                     \n",
      "==================================================================================================\n",
      "Item (InputLayer)               (None, 1)            0                                            \n",
      "__________________________________________________________________________________________________\n",
      "User (InputLayer)               (None, 1)            0                                            \n",
      "__________________________________________________________________________________________________\n",
      "Movie-Embedding (Embedding)     (None, 1, 10)        1010        Item[0][0]                       \n",
      "__________________________________________________________________________________________________\n",
      "User-Embedding (Embedding)      (None, 1, 10)        1010        User[0][0]                       \n",
      "__________________________________________________________________________________________________\n",
      "FlattenMovies (Flatten)         (None, 10)           0           Movie-Embedding[0][0]            \n",
      "__________________________________________________________________________________________________\n",
      "FlattenUsers (Flatten)          (None, 10)           0           User-Embedding[0][0]             \n",
      "__________________________________________________________________________________________________\n",
      "DotProduct (Dot)                (None, 1)            0           FlattenMovies[0][0]              \n",
      "                                                                 FlattenUsers[0][0]               \n",
      "==================================================================================================\n",
      "Total params: 2,020\n",
      "Trainable params: 2,020\n",
      "Non-trainable params: 0\n",
      "__________________________________________________________________________________________________\n"
     ]
    }
   ],
   "source": [
    "from keras.layers import Dense, Dropout, Flatten, Embedding, Input, dot, concatenate, merge\n",
    "import keras\n",
    "from keras.optimizers import Adam,SGD,Adagrad,Adadelta,RMSprop\n",
    "from IPython.display import SVG\n",
    "from keras.utils.vis_utils import model_to_dot\n",
    "\n",
    "def create_matrix_factorisation_model_NN(n_latent_factors, opt) :\n",
    "  movie_input = keras.layers.Input(shape=(1,),name='Item',dtype='int64')\n",
    "  movie_embedding = keras.layers.Embedding(0,n_movies, n_latent_factors, name='Movie-Embedding')(movie_input)\n",
    "  movie_vec = keras.layers.Flatten(name='FlattenMovies')(movie_embedding)\n",
    "\n",
    "  user_input = keras.layers.Input(shape=(1,),name='User',dtype='int64')\n",
    "  user_embedding = keras.layers.Embedding(n_users + 1, n_latent_factors,name='User-Embedding')(user_input)\n",
    "  user_vec = keras.layers.Flatten(name='FlattenUsers')(user_embedding)\n",
    "  \n",
    "  prod = dot([movie_vec, user_vec],name='DotProduct', axes = 1)\n",
    "\n",
    "  model = keras.Model([user_input, movie_input], prod)\n",
    "  model.compile(optimizer = opt , loss = 'mean_squared_error')\n",
    "\n",
    "  return model\n",
    "\n",
    "\n",
    "batch_size=128\n",
    "epochs=30\n",
    "TESTUSER = 10\n",
    "n_latent_factors = 10\n",
    "optimizer = Adam()\n",
    "model = create_matrix_factorisation_model(n_latent_factors, optimizer)\n",
    "model.summary()"
   ]
  },
  {
   "cell_type": "markdown",
   "metadata": {},
   "source": [
    "## Creating the NN Model and fit to train set"
   ]
  },
  {
   "cell_type": "code",
   "execution_count": 144,
   "metadata": {},
   "outputs": [
    {
     "name": "stdout",
     "output_type": "stream",
     "text": [
      "Train on 80 samples, validate on 20 samples\n",
      "Epoch 1/30\n",
      "80/80 [==============================] - 1s 11ms/step - loss: 13.1226 - val_loss: 14.9265\n",
      "Epoch 2/30\n",
      "80/80 [==============================] - 0s 70us/step - loss: 13.1193 - val_loss: 14.9265\n",
      "Epoch 3/30\n",
      "80/80 [==============================] - 0s 75us/step - loss: 13.1160 - val_loss: 14.9265\n"
     ]
    }
   ],
   "source": [
    "from IPython.display import clear_output\n",
    "from keras.callbacks import ReduceLROnPlateau, LearningRateScheduler, EarlyStopping, ModelCheckpoint\n",
    "\n",
    "callbacks = [EarlyStopping('val_loss', patience=2), \n",
    "             ModelCheckpoint('bestweights.h5', save_best_only=True)]\n",
    "\n",
    "History = model.fit([train.UserID,train.MovieID],train.Rating, batch_size=batch_size,\n",
    "                              epochs =epochs, validation_data = ([test.UserID,test.MovieID],test.Rating),\n",
    "                              verbose = 1, callbacks=callbacks)\n",
    "# clear_output()"
   ]
  },
  {
   "cell_type": "markdown",
   "metadata": {},
   "source": [
    "## Plotting the train and test loss for each epoch"
   ]
  },
  {
   "cell_type": "code",
   "execution_count": 145,
   "metadata": {},
   "outputs": [
    {
     "data": {
      "text/plain": [
       "[<matplotlib.lines.Line2D at 0x1a4a23a978>]"
      ]
     },
     "execution_count": 145,
     "metadata": {},
     "output_type": "execute_result"
    },
    {
     "data": {
      "text/plain": [
       "[<matplotlib.lines.Line2D at 0x1a4a2136d8>]"
      ]
     },
     "execution_count": 145,
     "metadata": {},
     "output_type": "execute_result"
    },
    {
     "data": {
      "text/plain": [
       "Text(0.5, 1.0, 'model loss')"
      ]
     },
     "execution_count": 145,
     "metadata": {},
     "output_type": "execute_result"
    },
    {
     "data": {
      "text/plain": [
       "Text(0, 0.5, 'loss')"
      ]
     },
     "execution_count": 145,
     "metadata": {},
     "output_type": "execute_result"
    },
    {
     "data": {
      "text/plain": [
       "Text(0.5, 0, 'epochs')"
      ]
     },
     "execution_count": 145,
     "metadata": {},
     "output_type": "execute_result"
    },
    {
     "data": {
      "text/plain": [
       "<matplotlib.legend.Legend at 0x1a4a2302b0>"
      ]
     },
     "execution_count": 145,
     "metadata": {},
     "output_type": "execute_result"
    },
    {
     "data": {
      "image/png": "[encoded data removed]",
      "text/plain": [
       "<Figure size 720x360 with 1 Axes>"
      ]
     },
     "metadata": {
      "needs_background": "light"
     },
     "output_type": "display_data"
    }
   ],
   "source": [
    "from pylab import rcParams\n",
    "rcParams['figure.figsize'] = 10, 5\n",
    "import matplotlib.pyplot as plt\n",
    "plt.plot(History.history['loss'] , 'g')\n",
    "plt.plot(History.history['val_loss'] , 'b')\n",
    "plt.title('model loss')\n",
    "plt.ylabel('loss')\n",
    "plt.xlabel('epochs')\n",
    "plt.legend(['train', 'test'], loc='upper right')\n",
    "plt.grid(True)\n",
    "plt.show()"
   ]
  },
  {
   "cell_type": "markdown",
   "metadata": {},
   "source": [
    "## Minimum RMSE "
   ]
  },
  {
   "cell_type": "code",
   "execution_count": 146,
   "metadata": {},
   "outputs": [
    {
     "name": "stdout",
     "output_type": "stream",
     "text": [
      "Minimum RMSE at epoch 1 = 3.8635\n"
     ]
    }
   ],
   "source": [
    "import math\n",
    "min_val_loss, idx = min((val, idx) for (idx, val) in enumerate(History.history['val_loss']))\n",
    "print ('Minimum RMSE at epoch', '{:d}'.format(idx+1), '=', '{:.4f}'.format(math.sqrt(min_val_loss)))"
   ]
  },
  {
   "cell_type": "markdown",
   "metadata": {},
   "source": [
    "## What are the top 5 recommended movies made to one user .  test_userID=61783"
   ]
  },
  {
   "cell_type": "code",
   "execution_count": 152,
   "metadata": {},
   "outputs": [],
   "source": [
    "# # Use the pre-trained model\n",
    "model.load_weights('bestweights.h5')\n",
    "\n",
    "# test use ID \n",
    "test_userID=61783\n",
    "TESTUSER=userID_mapper[test_userID]\n",
    "\n",
    "# finiding movies not seen by this use\n",
    "all_movies=list(set(newratedmovies.MovieID))\n",
    "user_seen_movies=list(newratedmovies[newratedmovies.UserID==TESTUSER].MovieID)\n",
    "user_not_seen_movies=[m for m in all_movies if m not in user_seen_movies]\n",
    "\n",
    "# Function to predict the ratings given User ID and Movie ID\n",
    "def predict_rating(user_id, movie_id):\n",
    "  return model.predict([np.array([user_id]), np.array([movie_id])])[0][0]\n",
    "\n",
    "# predicitng the rating for movies NOT SEEN by user\n",
    "not_seen_predicted_rating=[]\n",
    "for movieID in user_not_seen_movies:\n",
    "    not_seen_predicted_rating += [predict_rating(TESTUSER, movieID)]\n",
    "\n",
    "# Sorting the predicted ratings \n",
    "sorted_recommended_movieIDs=[x for _, x in sorted(zip(not_seen_predicted_rating, user_not_seen_movies))]\n",
    "\n",
    "# recoomeding the top 5 ratings(Titles)\n",
    "newratedmovies[newratedmovies['MovieID'].isin(sorted_recommended_movieIDs[0:5])].Title"
   ]
  },
  {
   "cell_type": "markdown",
   "metadata": {},
   "source": [
    "### recommendation"
   ]
  },
  {
   "cell_type": "code",
   "execution_count": 157,
   "metadata": {},
   "outputs": [
    {
     "data": {
      "text/plain": [
       "2391345    Sixth Sense, The (1999)\n",
       "7466469           King Kong (2005)\n",
       "7198989        Rapture, The (1991)\n",
       "8957521             Platoon (1986)\n",
       "8556328        Postman, The (1997)\n",
       "Name: Title, dtype: object"
      ]
     },
     "execution_count": 157,
     "metadata": {},
     "output_type": "execute_result"
    }
   ],
   "source": []
  },
  {
   "cell_type": "code",
   "execution_count": null,
   "metadata": {},
   "outputs": [
    {
     "ename": "TypeError",
     "evalue": "<lambda>() got an unexpected keyword argument 'axis'",
     "output_type": "error",
     "traceback": [
      "\u001b[0;31m---------------------------------------------------------------------------\u001b[0m",
      "\u001b[0;31mTypeError\u001b[0m                                 Traceback (most recent call last)",
      "\u001b[0;32m<ipython-input-238-d97bc4393c4b>\u001b[0m in \u001b[0;36m<module>\u001b[0;34m\u001b[0m\n\u001b[1;32m      1\u001b[0m \u001b[0mrecommendations\u001b[0m \u001b[0;34m=\u001b[0m \u001b[0mnewratedmovies\u001b[0m\u001b[0;34m[\u001b[0m\u001b[0mnewratedmovies\u001b[0m\u001b[0;34m[\u001b[0m\u001b[0;34m'MovieID'\u001b[0m\u001b[0;34m]\u001b[0m\u001b[0;34m.\u001b[0m\u001b[0misin\u001b[0m\u001b[0;34m(\u001b[0m\u001b[0muser_ratings\u001b[0m\u001b[0;34m[\u001b[0m\u001b[0;34m'MovieID'\u001b[0m\u001b[0;34m]\u001b[0m\u001b[0;34m)\u001b[0m \u001b[0;34m==\u001b[0m \u001b[0;32mFalse\u001b[0m\u001b[0;34m]\u001b[0m\u001b[0;34m[\u001b[0m\u001b[0;34m'MovieID'\u001b[0m\u001b[0;34m]\u001b[0m\u001b[0;34m.\u001b[0m\u001b[0mdrop_duplicates\u001b[0m\u001b[0;34m(\u001b[0m\u001b[0;34m)\u001b[0m\u001b[0;34m\u001b[0m\u001b[0;34m\u001b[0m\u001b[0m\n\u001b[0;32m----> 2\u001b[0;31m \u001b[0mrecommendations\u001b[0m\u001b[0;34m[\u001b[0m\u001b[0;34m'prediction'\u001b[0m\u001b[0;34m]\u001b[0m \u001b[0;34m=\u001b[0m \u001b[0mrecommendations\u001b[0m\u001b[0;34m.\u001b[0m\u001b[0mapply\u001b[0m\u001b[0;34m(\u001b[0m\u001b[0;32mlambda\u001b[0m \u001b[0mx\u001b[0m\u001b[0;34m:\u001b[0m \u001b[0mpredict_rating\u001b[0m\u001b[0;34m(\u001b[0m\u001b[0mTESTUSER\u001b[0m\u001b[0;34m,\u001b[0m \u001b[0mx\u001b[0m\u001b[0;34m[\u001b[0m\u001b[0;34m'MovieID'\u001b[0m\u001b[0;34m]\u001b[0m\u001b[0;34m)\u001b[0m\u001b[0;34m,\u001b[0m \u001b[0maxis\u001b[0m\u001b[0;34m=\u001b[0m\u001b[0;36m1\u001b[0m\u001b[0;34m)\u001b[0m\u001b[0;34m\u001b[0m\u001b[0;34m\u001b[0m\u001b[0m\n\u001b[0m",
      "\u001b[0;32m~/opt/anaconda3/envs/paytm/lib/python3.6/site-packages/pandas/core/series.py\u001b[0m in \u001b[0;36mapply\u001b[0;34m(self, func, convert_dtype, args, **kwds)\u001b[0m\n\u001b[1;32m   4211\u001b[0m             \u001b[0;32melse\u001b[0m\u001b[0;34m:\u001b[0m\u001b[0;34m\u001b[0m\u001b[0;34m\u001b[0m\u001b[0m\n\u001b[1;32m   4212\u001b[0m                 \u001b[0mvalues\u001b[0m \u001b[0;34m=\u001b[0m \u001b[0mself\u001b[0m\u001b[0;34m.\u001b[0m\u001b[0mastype\u001b[0m\u001b[0;34m(\u001b[0m\u001b[0mobject\u001b[0m\u001b[0;34m)\u001b[0m\u001b[0;34m.\u001b[0m\u001b[0m_values\u001b[0m\u001b[0;34m\u001b[0m\u001b[0;34m\u001b[0m\u001b[0m\n\u001b[0;32m-> 4213\u001b[0;31m                 \u001b[0mmapped\u001b[0m \u001b[0;34m=\u001b[0m \u001b[0mlib\u001b[0m\u001b[0;34m.\u001b[0m\u001b[0mmap_infer\u001b[0m\u001b[0;34m(\u001b[0m\u001b[0mvalues\u001b[0m\u001b[0;34m,\u001b[0m \u001b[0mf\u001b[0m\u001b[0;34m,\u001b[0m \u001b[0mconvert\u001b[0m\u001b[0;34m=\u001b[0m\u001b[0mconvert_dtype\u001b[0m\u001b[0;34m)\u001b[0m\u001b[0;34m\u001b[0m\u001b[0;34m\u001b[0m\u001b[0m\n\u001b[0m\u001b[1;32m   4214\u001b[0m \u001b[0;34m\u001b[0m\u001b[0m\n\u001b[1;32m   4215\u001b[0m         \u001b[0;32mif\u001b[0m \u001b[0mlen\u001b[0m\u001b[0;34m(\u001b[0m\u001b[0mmapped\u001b[0m\u001b[0;34m)\u001b[0m \u001b[0;32mand\u001b[0m \u001b[0misinstance\u001b[0m\u001b[0;34m(\u001b[0m\u001b[0mmapped\u001b[0m\u001b[0;34m[\u001b[0m\u001b[0;36m0\u001b[0m\u001b[0;34m]\u001b[0m\u001b[0;34m,\u001b[0m \u001b[0mSeries\u001b[0m\u001b[0;34m)\u001b[0m\u001b[0;34m:\u001b[0m\u001b[0;34m\u001b[0m\u001b[0;34m\u001b[0m\u001b[0m\n",
      "\u001b[0;32mpandas/_libs/lib.pyx\u001b[0m in \u001b[0;36mpandas._libs.lib.map_infer\u001b[0;34m()\u001b[0m\n",
      "\u001b[0;32m~/opt/anaconda3/envs/paytm/lib/python3.6/site-packages/pandas/core/series.py\u001b[0m in \u001b[0;36mf\u001b[0;34m(x)\u001b[0m\n\u001b[1;32m   4196\u001b[0m \u001b[0;34m\u001b[0m\u001b[0m\n\u001b[1;32m   4197\u001b[0m             \u001b[0;32mdef\u001b[0m \u001b[0mf\u001b[0m\u001b[0;34m(\u001b[0m\u001b[0mx\u001b[0m\u001b[0;34m)\u001b[0m\u001b[0;34m:\u001b[0m\u001b[0;34m\u001b[0m\u001b[0;34m\u001b[0m\u001b[0m\n\u001b[0;32m-> 4198\u001b[0;31m                 \u001b[0;32mreturn\u001b[0m \u001b[0mfunc\u001b[0m\u001b[0;34m(\u001b[0m\u001b[0mx\u001b[0m\u001b[0;34m,\u001b[0m \u001b[0;34m*\u001b[0m\u001b[0margs\u001b[0m\u001b[0;34m,\u001b[0m \u001b[0;34m**\u001b[0m\u001b[0mkwds\u001b[0m\u001b[0;34m)\u001b[0m\u001b[0;34m\u001b[0m\u001b[0;34m\u001b[0m\u001b[0m\n\u001b[0m\u001b[1;32m   4199\u001b[0m \u001b[0;34m\u001b[0m\u001b[0m\n\u001b[1;32m   4200\u001b[0m         \u001b[0;32melse\u001b[0m\u001b[0;34m:\u001b[0m\u001b[0;34m\u001b[0m\u001b[0;34m\u001b[0m\u001b[0m\n",
      "\u001b[0;31mTypeError\u001b[0m: <lambda>() got an unexpected keyword argument 'axis'"
     ]
    }
   ],
   "source": [
    "recommendations = newratedmovies[newratedmovies['MovieID'].isin(user_ratings['MovieID']) == False][['MovieID']].drop_duplicates()\n",
    "recommendations['prediction'] = recommendations.apply(lambda x: predict_rating(TESTUSER, x['MovieID']), axis=1)"
   ]
  }
 ],
 "metadata": {
  "interpreter": {
   "hash": "55ebfc7b36cd57a04fc3475db000f66b48c2d566b20ae0dd34a46160e9d5bf54"
  },
  "kernelspec": {
   "display_name": "Python 3.6.13 64-bit ('paytm': conda)",
   "name": "python3"
  },
  "language_info": {
   "codemirror_mode": {
    "name": "ipython",
    "version": 3
   },
   "file_extension": ".py",
   "mimetype": "text/x-python",
   "name": "python",
   "nbconvert_exporter": "python",
   "pygments_lexer": "ipython3",
   "version": "3.6.13"
  },
  "orig_nbformat": 4
 },
 "nbformat": 4,
 "nbformat_minor": 2
}